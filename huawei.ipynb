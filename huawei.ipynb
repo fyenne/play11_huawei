{
 "cells": [
  {
   "cell_type": "code",
   "execution_count": 2,
   "metadata": {},
   "outputs": [
    {
     "data": {
      "text/plain": [
       "['huawei_daily.csv', 'huawei_output.csv', '入湖数据关系.xlsx']"
      ]
     },
     "execution_count": 2,
     "metadata": {},
     "output_type": "execute_result"
    }
   ],
   "source": [
    "from fyenn_class import  pd_loaddata, pd, np \n",
    "path = './data_down/'\n",
    "os.listdir(path)\n"
   ]
  },
  {
   "cell_type": "code",
   "execution_count": 80,
   "metadata": {},
   "outputs": [
    {
     "name": "stdout",
     "output_type": "stream",
     "text": [
      "Wall time: 222 ms\n"
     ]
    },
    {
     "data": {
      "text/plain": [
       "(11717, 33)"
      ]
     },
     "execution_count": 80,
     "metadata": {},
     "output_type": "execute_result"
    }
   ],
   "source": [
    "%%time\n",
    "huawei_output = pd_loaddata.pd_sep001(path + 'huawei_output.csv')\n",
    "# huawei_daily = pd_loaddata.pd_sep001(path + 'huawei_daily.csv')\n",
    "rel = pd_loaddata.pd_excel(path + '入湖数据关系', 2)\n",
    "huawei_output.shape"
   ]
  },
  {
   "cell_type": "code",
   "execution_count": 81,
   "metadata": {},
   "outputs": [
    {
     "data": {
      "text/html": [
       "<div>\n",
       "<style scoped>\n",
       "    .dataframe tbody tr th:only-of-type {\n",
       "        vertical-align: middle;\n",
       "    }\n",
       "\n",
       "    .dataframe tbody tr th {\n",
       "        vertical-align: top;\n",
       "    }\n",
       "\n",
       "    .dataframe thead th {\n",
       "        text-align: right;\n",
       "    }\n",
       "</style>\n",
       "<table border=\"1\" class=\"dataframe\">\n",
       "  <thead>\n",
       "    <tr style=\"text-align: right;\">\n",
       "      <th></th>\n",
       "      <th>序号</th>\n",
       "      <th>对应现有看板业务量指标</th>\n",
       "      <th>对应效率指标</th>\n",
       "      <th>OU（成本中心）</th>\n",
       "    </tr>\n",
       "  </thead>\n",
       "  <tbody>\n",
       "    <tr>\n",
       "      <th>0</th>\n",
       "      <td>1</td>\n",
       "      <td>按条收货-原材料</td>\n",
       "      <td>inbound</td>\n",
       "      <td>HUAWEDHW4S</td>\n",
       "    </tr>\n",
       "    <tr>\n",
       "      <th>3</th>\n",
       "      <td>2</td>\n",
       "      <td>按条发货-原材料</td>\n",
       "      <td>outbound</td>\n",
       "      <td>HUAWEDHW4S</td>\n",
       "    </tr>\n",
       "    <tr>\n",
       "      <th>23</th>\n",
       "      <td>3</td>\n",
       "      <td>PSN-原材料</td>\n",
       "      <td>labelling</td>\n",
       "      <td>HUAWEDHW4S</td>\n",
       "    </tr>\n",
       "    <tr>\n",
       "      <th>24</th>\n",
       "      <td>4</td>\n",
       "      <td>按条收货-荣耀</td>\n",
       "      <td>inbound</td>\n",
       "      <td>HONORDGHMS</td>\n",
       "    </tr>\n",
       "    <tr>\n",
       "      <th>26</th>\n",
       "      <td>5</td>\n",
       "      <td>按条发货-荣耀</td>\n",
       "      <td>outbound</td>\n",
       "      <td>HONORDGHMS</td>\n",
       "    </tr>\n",
       "    <tr>\n",
       "      <th>36</th>\n",
       "      <td>6</td>\n",
       "      <td>PSN-荣耀</td>\n",
       "      <td>labelling</td>\n",
       "      <td>HONORDGHMS</td>\n",
       "    </tr>\n",
       "    <tr>\n",
       "      <th>37</th>\n",
       "      <td>7</td>\n",
       "      <td>珠三角仓配趟数</td>\n",
       "      <td>transport</td>\n",
       "      <td>HUAWEDHWTS</td>\n",
       "    </tr>\n",
       "    <tr>\n",
       "      <th>39</th>\n",
       "      <td>8</td>\n",
       "      <td>贵阳仓配趟数</td>\n",
       "      <td>transport</td>\n",
       "      <td>HUAWEDGTRD</td>\n",
       "    </tr>\n",
       "    <tr>\n",
       "      <th>41</th>\n",
       "      <td>9</td>\n",
       "      <td>成品收货-T园区</td>\n",
       "      <td>inbound</td>\n",
       "      <td>HUAWEDGLSS</td>\n",
       "    </tr>\n",
       "    <tr>\n",
       "      <th>42</th>\n",
       "      <td>10</td>\n",
       "      <td>成品发货-T园区</td>\n",
       "      <td>outbound</td>\n",
       "      <td>HUAWEDGLSS</td>\n",
       "    </tr>\n",
       "    <tr>\n",
       "      <th>45</th>\n",
       "      <td>11</td>\n",
       "      <td>R4 保税仓发货条数</td>\n",
       "      <td>outbound</td>\n",
       "      <td>HUAWEDHW1S</td>\n",
       "    </tr>\n",
       "    <tr>\n",
       "      <th>46</th>\n",
       "      <td>12</td>\n",
       "      <td>南华发货计费条数</td>\n",
       "      <td>outbound</td>\n",
       "      <td>HUAWEDGNHS</td>\n",
       "    </tr>\n",
       "    <tr>\n",
       "      <th>47</th>\n",
       "      <td>13</td>\n",
       "      <td>安世 FG收货PQ</td>\n",
       "      <td>inbound</td>\n",
       "      <td>NEXPEDGIHS</td>\n",
       "    </tr>\n",
       "    <tr>\n",
       "      <th>48</th>\n",
       "      <td>14</td>\n",
       "      <td>安世 FG发货PQ</td>\n",
       "      <td>outbound</td>\n",
       "      <td>NEXPEDGIHS</td>\n",
       "    </tr>\n",
       "    <tr>\n",
       "      <th>49</th>\n",
       "      <td>15</td>\n",
       "      <td>安世 FCS发货箱数</td>\n",
       "      <td>outbound</td>\n",
       "      <td>NEXPEDGIHS</td>\n",
       "    </tr>\n",
       "  </tbody>\n",
       "</table>\n",
       "</div>"
      ],
      "text/plain": [
       "    序号 对应现有看板业务量指标     对应效率指标    OU（成本中心）\n",
       "0    1    按条收货-原材料    inbound  HUAWEDHW4S\n",
       "3    2    按条发货-原材料   outbound  HUAWEDHW4S\n",
       "23   3     PSN-原材料  labelling  HUAWEDHW4S\n",
       "24   4     按条收货-荣耀    inbound  HONORDGHMS\n",
       "26   5     按条发货-荣耀   outbound  HONORDGHMS\n",
       "36   6      PSN-荣耀  labelling  HONORDGHMS\n",
       "37   7     珠三角仓配趟数  transport  HUAWEDHWTS\n",
       "39   8      贵阳仓配趟数  transport  HUAWEDGTRD\n",
       "41   9    成品收货-T园区    inbound  HUAWEDGLSS\n",
       "42  10    成品发货-T园区   outbound  HUAWEDGLSS\n",
       "45  11  R4 保税仓发货条数   outbound  HUAWEDHW1S\n",
       "46  12    南华发货计费条数   outbound  HUAWEDGNHS\n",
       "47  13   安世 FG收货PQ    inbound  NEXPEDGIHS\n",
       "48  14   安世 FG发货PQ   outbound  NEXPEDGIHS\n",
       "49  15  安世 FCS发货箱数   outbound  NEXPEDGIHS"
      ]
     },
     "execution_count": 81,
     "metadata": {},
     "output_type": "execute_result"
    }
   ],
   "source": [
    "pd_loaddata.show_line(15, None)\n",
    "rel = rel.drop(['部门', '站点'],axis = 1).drop_duplicates();rel"
   ]
  },
  {
   "cell_type": "code",
   "execution_count": 83,
   "metadata": {},
   "outputs": [
    {
     "data": {
      "text/plain": [
       "HUAWEDHW4S    3\n",
       "HONORDGHMS    3\n",
       "NEXPEDGIHS    3\n",
       "HUAWEDGLSS    2\n",
       "HUAWEDHWTS    1\n",
       "HUAWEDGTRD    1\n",
       "HUAWEDHW1S    1\n",
       "HUAWEDGNHS    1\n",
       "Name: OU（成本中心）, dtype: int64"
      ]
     },
     "execution_count": 83,
     "metadata": {},
     "output_type": "execute_result"
    }
   ],
   "source": [
    "rel.iloc[:, 3].value_counts()"
   ]
  },
  {
   "cell_type": "code",
   "execution_count": 84,
   "metadata": {},
   "outputs": [],
   "source": [
    "def datetime_(coach, col):\n",
    "    coach[col] = coach[col].astype(str).str.slice(0,10)\n",
    "    coach = pd.concat([coach, pd.DataFrame(list(coach[col].str.split('-')))], axis =1)\n",
    "    coach = coach[coach[[0,1,2]].astype(int).sum(axis = 1) != 0]\n",
    "    coach = coach.rename({0:'year', 1:'month', 2: 'date'}, axis=1)\n",
    "    return coach\n",
    "huawei_output = datetime_(coach=huawei_output, col='update_date').drop(['createtime', 'updatetime'], axis = 1)\n",
    "\n",
    "def search_col(df, str):\n",
    "    return list(pd.Series(df.columns)[pd.Series(df.columns).str.match(str)])"
   ]
  },
  {
   "cell_type": "code",
   "execution_count": 265,
   "metadata": {},
   "outputs": [
    {
     "name": "stderr",
     "output_type": "stream",
     "text": [
      "C:\\Users\\DSCSHA~1\\AppData\\Local\\Temp/ipykernel_24992/2230356562.py:2: UserWarning: This pattern has match groups. To actually get the groups, use str.extract.\n",
      "  pd.Series(huawei_output.columns).str.contains(\n"
     ]
    },
    {
     "data": {
      "text/plain": [
       "['t_product_clean', 'anshi_case', 'pre_withdraw']"
      ]
     },
     "execution_count": 265,
     "metadata": {},
     "output_type": "execute_result"
    }
   ],
   "source": [
    "tran_col = list(pd.Series(huawei_output.columns)[\n",
    "    pd.Series(huawei_output.columns).str.contains(\n",
    "        '(receive|psn|send|transport_times|update_date|year|month|date|id)'\n",
    "        ) == False\n",
    "        ])\n",
    "\n",
    "tran_col\n",
    "# clean , case, withdraw)"
   ]
  },
  {
   "cell_type": "code",
   "execution_count": 274,
   "metadata": {},
   "outputs": [
    {
     "data": {
      "text/plain": [
       "'t_product_clean'"
      ]
     },
     "execution_count": 274,
     "metadata": {},
     "output_type": "execute_result"
    }
   ],
   "source": [
    "re = 't_'\n",
    "pd.Series(tran_col).str.extract(\"(\" + re + \".+)\")[0][0]"
   ]
  },
  {
   "cell_type": "code",
   "execution_count": 277,
   "metadata": {},
   "outputs": [],
   "source": [
    "def concat_(re, ou):\n",
    "    huawei_output[search_col(huawei_output, re)].shape\n",
    "    # n = 4 - huawei_output[search_col(huawei_output, re)].shape[1]\n",
    "    # m = huawei_output[search_col(huawei_output, re)].shape[0]\n",
    "    # print(m, n)\n",
    "    data = pd.concat(\n",
    "        [\n",
    "            huawei_output[search_col(huawei_output, re)], \n",
    "            # pd.DataFrame(np.zeros(shape=(m, n), dtype=int)),\n",
    "            huawei_output[['update_date', 'year', 'month', 'date']]\n",
    "        ]\n",
    "        , axis = 1).sort_values('update_date')\n",
    "    # print(data.shape)\n",
    "    data.columns = list(pd.Series(data.columns).str.extract(\n",
    "        '(receive|psn|send|transport_times|update_date|year|month|date)'\n",
    "        )[0])\n",
    "    try:\n",
    "        data = data.rename({np.nan:'addition'}, axis = 1)\n",
    "    except:\n",
    "        pass\n",
    "    data['ou'] = ou\n",
    "    data['addition_type'] = pd.Series(tran_col).str.extract(\"(\" + re + \".+)\")[0][0]\n",
    "\n",
    "    return data.reset_index(drop=True)"
   ]
  },
  {
   "cell_type": "code",
   "execution_count": 281,
   "metadata": {},
   "outputs": [],
   "source": [
    "relist = ['hon', 'origin', 'pearlriver_transport_times', 'guiyang_transport_times', 't_', 'r4_', 'nanh', 'anshi', 'te', 'pre']\n",
    "oulist = list(rel['OU（成本中心）'].unique())"
   ]
  },
  {
   "cell_type": "code",
   "execution_count": 251,
   "metadata": {},
   "outputs": [],
   "source": [
    "origin = concat_('origin', 'HUAWEDHW4S')\n",
    "honor = concat_('hon', 'HONORDGHMS') "
   ]
  },
  {
   "cell_type": "code",
   "execution_count": 280,
   "metadata": {},
   "outputs": [
    {
     "data": {
      "text/plain": [
       "['HUAWEDHW4S',\n",
       " 'HONORDGHMS',\n",
       " 'HUAWEDHWTS',\n",
       " 'HUAWEDGTRD',\n",
       " 'HUAWEDGLSS',\n",
       " 'HUAWEDHW1S',\n",
       " 'HUAWEDGNHS',\n",
       " 'NEXPEDGIHS']"
      ]
     },
     "execution_count": 280,
     "metadata": {},
     "output_type": "execute_result"
    }
   ],
   "source": [
    "list(rel['OU（成本中心）'].unique())"
   ]
  },
  {
   "cell_type": "code",
   "execution_count": 278,
   "metadata": {},
   "outputs": [
    {
     "data": {
      "text/html": [
       "<div>\n",
       "<style scoped>\n",
       "    .dataframe tbody tr th:only-of-type {\n",
       "        vertical-align: middle;\n",
       "    }\n",
       "\n",
       "    .dataframe tbody tr th {\n",
       "        vertical-align: top;\n",
       "    }\n",
       "\n",
       "    .dataframe thead th {\n",
       "        text-align: right;\n",
       "    }\n",
       "</style>\n",
       "<table border=\"1\" class=\"dataframe\">\n",
       "  <thead>\n",
       "    <tr style=\"text-align: right;\">\n",
       "      <th></th>\n",
       "      <th>序号</th>\n",
       "      <th>对应现有看板业务量指标</th>\n",
       "      <th>对应效率指标</th>\n",
       "      <th>OU（成本中心）</th>\n",
       "    </tr>\n",
       "  </thead>\n",
       "  <tbody>\n",
       "    <tr>\n",
       "      <th>0</th>\n",
       "      <td>1</td>\n",
       "      <td>按条收货-原材料</td>\n",
       "      <td>inbound</td>\n",
       "      <td>HUAWEDHW4S</td>\n",
       "    </tr>\n",
       "    <tr>\n",
       "      <th>3</th>\n",
       "      <td>2</td>\n",
       "      <td>按条发货-原材料</td>\n",
       "      <td>outbound</td>\n",
       "      <td>HUAWEDHW4S</td>\n",
       "    </tr>\n",
       "    <tr>\n",
       "      <th>23</th>\n",
       "      <td>3</td>\n",
       "      <td>PSN-原材料</td>\n",
       "      <td>labelling</td>\n",
       "      <td>HUAWEDHW4S</td>\n",
       "    </tr>\n",
       "    <tr>\n",
       "      <th>24</th>\n",
       "      <td>4</td>\n",
       "      <td>按条收货-荣耀</td>\n",
       "      <td>inbound</td>\n",
       "      <td>HONORDGHMS</td>\n",
       "    </tr>\n",
       "    <tr>\n",
       "      <th>26</th>\n",
       "      <td>5</td>\n",
       "      <td>按条发货-荣耀</td>\n",
       "      <td>outbound</td>\n",
       "      <td>HONORDGHMS</td>\n",
       "    </tr>\n",
       "    <tr>\n",
       "      <th>36</th>\n",
       "      <td>6</td>\n",
       "      <td>PSN-荣耀</td>\n",
       "      <td>labelling</td>\n",
       "      <td>HONORDGHMS</td>\n",
       "    </tr>\n",
       "    <tr>\n",
       "      <th>37</th>\n",
       "      <td>7</td>\n",
       "      <td>珠三角仓配趟数</td>\n",
       "      <td>transport</td>\n",
       "      <td>HUAWEDHWTS</td>\n",
       "    </tr>\n",
       "    <tr>\n",
       "      <th>39</th>\n",
       "      <td>8</td>\n",
       "      <td>贵阳仓配趟数</td>\n",
       "      <td>transport</td>\n",
       "      <td>HUAWEDGTRD</td>\n",
       "    </tr>\n",
       "    <tr>\n",
       "      <th>41</th>\n",
       "      <td>9</td>\n",
       "      <td>成品收货-T园区</td>\n",
       "      <td>inbound</td>\n",
       "      <td>HUAWEDGLSS</td>\n",
       "    </tr>\n",
       "    <tr>\n",
       "      <th>42</th>\n",
       "      <td>10</td>\n",
       "      <td>成品发货-T园区</td>\n",
       "      <td>outbound</td>\n",
       "      <td>HUAWEDGLSS</td>\n",
       "    </tr>\n",
       "    <tr>\n",
       "      <th>45</th>\n",
       "      <td>11</td>\n",
       "      <td>R4 保税仓发货条数</td>\n",
       "      <td>outbound</td>\n",
       "      <td>HUAWEDHW1S</td>\n",
       "    </tr>\n",
       "    <tr>\n",
       "      <th>46</th>\n",
       "      <td>12</td>\n",
       "      <td>南华发货计费条数</td>\n",
       "      <td>outbound</td>\n",
       "      <td>HUAWEDGNHS</td>\n",
       "    </tr>\n",
       "    <tr>\n",
       "      <th>47</th>\n",
       "      <td>13</td>\n",
       "      <td>安世 FG收货PQ</td>\n",
       "      <td>inbound</td>\n",
       "      <td>NEXPEDGIHS</td>\n",
       "    </tr>\n",
       "    <tr>\n",
       "      <th>48</th>\n",
       "      <td>14</td>\n",
       "      <td>安世 FG发货PQ</td>\n",
       "      <td>outbound</td>\n",
       "      <td>NEXPEDGIHS</td>\n",
       "    </tr>\n",
       "    <tr>\n",
       "      <th>49</th>\n",
       "      <td>15</td>\n",
       "      <td>安世 FCS发货箱数</td>\n",
       "      <td>outbound</td>\n",
       "      <td>NEXPEDGIHS</td>\n",
       "    </tr>\n",
       "  </tbody>\n",
       "</table>\n",
       "</div>"
      ],
      "text/plain": [
       "    序号 对应现有看板业务量指标     对应效率指标    OU（成本中心）\n",
       "0    1    按条收货-原材料    inbound  HUAWEDHW4S\n",
       "3    2    按条发货-原材料   outbound  HUAWEDHW4S\n",
       "23   3     PSN-原材料  labelling  HUAWEDHW4S\n",
       "24   4     按条收货-荣耀    inbound  HONORDGHMS\n",
       "26   5     按条发货-荣耀   outbound  HONORDGHMS\n",
       "36   6      PSN-荣耀  labelling  HONORDGHMS\n",
       "37   7     珠三角仓配趟数  transport  HUAWEDHWTS\n",
       "39   8      贵阳仓配趟数  transport  HUAWEDGTRD\n",
       "41   9    成品收货-T园区    inbound  HUAWEDGLSS\n",
       "42  10    成品发货-T园区   outbound  HUAWEDGLSS\n",
       "45  11  R4 保税仓发货条数   outbound  HUAWEDHW1S\n",
       "46  12    南华发货计费条数   outbound  HUAWEDGNHS\n",
       "47  13   安世 FG收货PQ    inbound  NEXPEDGIHS\n",
       "48  14   安世 FG发货PQ   outbound  NEXPEDGIHS\n",
       "49  15  安世 FCS发货箱数   outbound  NEXPEDGIHS"
      ]
     },
     "execution_count": 278,
     "metadata": {},
     "output_type": "execute_result"
    }
   ],
   "source": [
    "rel"
   ]
  },
  {
   "cell_type": "code",
   "execution_count": 240,
   "metadata": {},
   "outputs": [
    {
     "data": {
      "text/plain": [
       "{'t_product_clean': 'additional',\n",
       " 'anshi_case': 'additional',\n",
       " 'pre_withdraw': 'additional'}"
      ]
     },
     "execution_count": 240,
     "metadata": {},
     "output_type": "execute_result"
    }
   ],
   "source": [
    "dict(zip(tran_col, np.repeat('additional',3)))"
   ]
  },
  {
   "cell_type": "code",
   "execution_count": 254,
   "metadata": {},
   "outputs": [
    {
     "data": {
      "text/plain": [
       "Index(['update_date', 'origin_receive', 'origin_send', 'origin_psn',\n",
       "       'honor_receive', 'honer_send', 'honor_psn',\n",
       "       'pearlriver_transport_times', 'guiyang_transport_times',\n",
       "       't_product_receive', 't_product_clean', 't_product_send', 'r4_receive',\n",
       "       'r4_send', 'r4_psn', 'nanhua_receive', 'nanhua_send', 'nanhau_psn',\n",
       "       'anshi_receive', 'anshi_send', 'anshi_case', 'te_origin_receive',\n",
       "       'te_origin_send', 'te_product_receive', 'te_product_send',\n",
       "       'pre_receive', 'pre_withdraw', 'honor_transport_times', 'id', 'appid',\n",
       "       'entryid', 'year', 'month', 'date'],\n",
       "      dtype='object')"
      ]
     },
     "execution_count": 254,
     "metadata": {},
     "output_type": "execute_result"
    }
   ],
   "source": [
    "huawei_output.columns"
   ]
  }
 ],
 "metadata": {
  "interpreter": {
   "hash": "47b50d2908d96196e4220cfb4e81faa93803065ea975497e7026f672c1f58470"
  },
  "kernelspec": {
   "display_name": "Python 3.8.8 64-bit ('siming': conda)",
   "language": "python",
   "name": "python3"
  },
  "language_info": {
   "codemirror_mode": {
    "name": "ipython",
    "version": 3
   },
   "file_extension": ".py",
   "mimetype": "text/x-python",
   "name": "python",
   "nbconvert_exporter": "python",
   "pygments_lexer": "ipython3",
   "version": "3.8.8"
  },
  "orig_nbformat": 4
 },
 "nbformat": 4,
 "nbformat_minor": 2
}
