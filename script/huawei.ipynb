{
 "cells": [
  {
   "cell_type": "code",
   "execution_count": 1,
   "metadata": {},
   "outputs": [
    {
     "data": {
      "text/plain": [
       "['huawei_daily.csv', 'huawei_output.csv', '入湖数据关系.csv', '入湖数据关系.xlsx']"
      ]
     },
     "execution_count": 1,
     "metadata": {},
     "output_type": "execute_result"
    }
   ],
   "source": [
    "from fyenn_class import  pd_loaddata, pd, np \n",
    "from datetime import datetime, timedelta\n",
    "\n",
    "path = '../data_down/'\n",
    "os.listdir(path)\n"
   ]
  },
  {
   "cell_type": "code",
   "execution_count": 17,
   "metadata": {},
   "outputs": [
    {
     "data": {
      "text/plain": [
       "'=============================================Lorem=================================================='"
      ]
     },
     "execution_count": 17,
     "metadata": {},
     "output_type": "execute_result"
    }
   ],
   "source": [
    "'{note:=>50}'.format(note='Lorem') + '{note:=>50}'.format(note='')"
   ]
  },
  {
   "cell_type": "code",
   "execution_count": 115,
   "metadata": {},
   "outputs": [
    {
     "name": "stdout",
     "output_type": "stream",
     "text": [
      "Wall time: 612 ms\n"
     ]
    },
    {
     "name": "stderr",
     "output_type": "stream",
     "text": [
      "<timed exec>:26: UserWarning: This pattern has match groups. To actually get the groups, use str.extract.\n"
     ]
    }
   ],
   "source": [
    "%%time\n",
    "huawei_output = pd_loaddata.pd_csv(path + 'huawei_output.csv')\n",
    "# huawei_daily = pd_loaddata.pd_csv(path + 'huawei_daily.csv')\n",
    "# rel = pd_loaddata.pd_excel(path + '入湖数据关系', 2)\n",
    "# huawei_output.shape\n",
    "# pd_loaddata.pd_show(15, None)\n",
    "# rel = rel.drop(['部门', '站点'],axis = 1).drop_duplicates();rel\n",
    "def datetime_(coach, col):\n",
    "    \"\"\"\n",
    "    detail time to date; \n",
    "    split and assign to 3 cols of year m d\n",
    "    \"\"\"\n",
    "    coach[col] = coach[col].astype(str).str.slice(0,10)\n",
    "    coach = pd.concat([coach, pd.DataFrame(list(coach[col].str.split('-')))], axis =1)\n",
    "    coach = coach[coach[[0,1,2]].astype(int).sum(axis = 1) != 0]\n",
    "    coach = coach.rename({0:'year', 1:'month', 2: 'date'}, axis=1)\n",
    "    return coach\n",
    "huawei_output = datetime_(coach=huawei_output, col='update_date').drop(['createtime', 'updatetime'], axis = 1)\n",
    "huawei_output = huawei_output.drop(['id','appid','entryid'], axis = 1).drop_duplicates().sort_values('update_date')\n",
    "def search_col(df, str):\n",
    "    \"\"\"\n",
    "    列名正则搜索.\n",
    "    \"\"\"\n",
    "    return list(pd.Series(df.columns)[pd.Series(df.columns).str.match(str)])\n",
    "# 识别异常列名\n",
    "tran_col = list(pd.Series(huawei_output.columns)[\n",
    "    pd.Series(huawei_output.columns).str.contains(\n",
    "        '(receive|psn|send|transport_times|update_date|year|month|date|id)'\n",
    "        ) == False\n",
    "        ])\n",
    "\n",
    "\n",
    "# clean , case, withdraw)"
   ]
  },
  {
   "cell_type": "code",
   "execution_count": 118,
   "metadata": {},
   "outputs": [
    {
     "data": {
      "text/plain": [
       "{'hon': 'HUAWEDHW4S',\n",
       " 'origi': 'HONORDGHMS',\n",
       " 'pearl': 'HUAWEDHWTS',\n",
       " 'guiy': 'HUAWEDGTRD',\n",
       " '^t\\\\_': 'HUAWEDGLSS',\n",
       " 'r4\\\\_': 'HUAWEDHW1S',\n",
       " 'nanh': 'HUAWEDGNHS',\n",
       " 'ansh': 'NEXPEDGIHS'}"
      ]
     },
     "execution_count": 118,
     "metadata": {},
     "output_type": "execute_result"
    }
   ],
   "source": [
    "\n",
    "\"\"\"\n",
    "ou 和正则匹配\n",
    "\"\"\"\n",
    "relist = ['hon', 'origi', 'pearl', 'guiy', '^t\\_', 'r4\\_', 'nanh', 'ansh']\n",
    "oulist = list(rel['OU（成本中心）'].unique())\n",
    "del dict \n",
    "dict = dict(zip(relist, oulist))\n",
    "# re = 'pear'\n",
    "# pd.Series(huawei_output.columns).str.extract(\"(\" + re + \"[a-z]+)\").dropna()\n",
    "dict"
   ]
  },
  {
   "cell_type": "code",
   "execution_count": 167,
   "metadata": {},
   "outputs": [
    {
     "name": "stdout",
     "output_type": "stream",
     "text": [
      "hon HUAWEDHW4S\n",
      "origi HONORDGHMS\n",
      "pearl HUAWEDHWTS\n",
      "guiy HUAWEDGTRD\n",
      "^t\\_ HUAWEDGLSS\n",
      "r4\\_ HUAWEDHW1S\n",
      "nanh HUAWEDGNHS\n",
      "ansh NEXPEDGIHS\n"
     ]
    }
   ],
   "source": [
    "def concat_(re, ou):\n",
    "    huawei_output[search_col(huawei_output, re)].shape\n",
    "    # n = 4 - huawei_output[search_col(huawei_output, re)].shape[1]\n",
    "    # m = huawei_output[search_col(huawei_output, re)].shape[0]\n",
    "    # print(m, n)\n",
    "    data = pd.concat(\n",
    "        [\n",
    "            huawei_output[search_col(huawei_output, re)], \n",
    "            # pd.DataFrame(np.zeros(shape=(m, n), dtype=int)),\n",
    "            huawei_output[['update_date', 'year', 'month', 'date']]\n",
    "        ]\n",
    "        , axis = 1).sort_values('update_date')\n",
    "    # print(data.shape)\n",
    "    data.columns = list(pd.Series(data.columns).str.extract(\n",
    "        '(receive|psn|send|transport_times|update_date|year|month|date)'\n",
    "        )[0])\n",
    "    try:\n",
    "        data = data.rename({np.nan:'addition'}, axis = 1)\n",
    "    except:\n",
    "        pass\n",
    "    data['ou'] = ou\n",
    "    data['station'] = pd.Series(huawei_output.columns).str.extract(\"(\" + re + \"[a-z]+)\").dropna().iloc[0,0]\n",
    "    data['addition_type'] = pd.Series(tran_col).str.extract(\"(\" + re + \".+)\").fillna('z').sort_values(0).iloc[0,0]\n",
    "     \n",
    "    return data.reset_index(drop=True)\n",
    "\n",
    "df = pd.DataFrame()\n",
    "for re in dict:\n",
    "    print(re, dict[re])\n",
    "    df = pd.concat([df, concat_(re, dict[re])], axis = 0)\n"
   ]
  },
  {
   "cell_type": "code",
   "execution_count": 159,
   "metadata": {},
   "outputs": [
    {
     "data": {
      "text/html": [
       "<div>\n",
       "<style scoped>\n",
       "    .dataframe tbody tr th:only-of-type {\n",
       "        vertical-align: middle;\n",
       "    }\n",
       "\n",
       "    .dataframe tbody tr th {\n",
       "        vertical-align: top;\n",
       "    }\n",
       "\n",
       "    .dataframe thead th {\n",
       "        text-align: right;\n",
       "    }\n",
       "</style>\n",
       "<table border=\"1\" class=\"dataframe\">\n",
       "  <thead>\n",
       "    <tr style=\"text-align: right;\">\n",
       "      <th></th>\n",
       "      <th>0</th>\n",
       "    </tr>\n",
       "  </thead>\n",
       "  <tbody>\n",
       "    <tr>\n",
       "      <th>0</th>\n",
       "      <td>z</td>\n",
       "    </tr>\n",
       "    <tr>\n",
       "      <th>1</th>\n",
       "      <td>z</td>\n",
       "    </tr>\n",
       "    <tr>\n",
       "      <th>2</th>\n",
       "      <td>z</td>\n",
       "    </tr>\n",
       "  </tbody>\n",
       "</table>\n",
       "</div>"
      ],
      "text/plain": [
       "   0\n",
       "0  z\n",
       "1  z\n",
       "2  z"
      ]
     },
     "execution_count": 159,
     "metadata": {},
     "output_type": "execute_result"
    }
   ],
   "source": [
    "pd.Series(tran_col).str.extract(\"(\" + 'pear' + \".+)\").fillna('zull')"
   ]
  },
  {
   "cell_type": "code",
   "execution_count": 157,
   "metadata": {},
   "outputs": [
    {
     "data": {
      "text/plain": [
       "'anshi_case'"
      ]
     },
     "execution_count": 157,
     "metadata": {},
     "output_type": "execute_result"
    }
   ],
   "source": [
    "# pd.Series(huawei_output.columns).str.extract(\"(\" + 't_' + \".+)\").dropna().iloc[0,0]\n",
    "pd.Series(tran_col).str.extract(\"(\" + 'anshi' + \".+)\").fillna('z').sort_values(0).iloc[0,0]"
   ]
  },
  {
   "cell_type": "code",
   "execution_count": 171,
   "metadata": {},
   "outputs": [
    {
     "name": "stderr",
     "output_type": "stream",
     "text": [
      "C:\\Users\\DSCSHA~1\\AppData\\Local\\Temp/ipykernel_25828/680750927.py:18: FutureWarning: The default value of regex will change from True to False in a future version.\n",
      "  df['addition_type'] = df['addition_type'].str.replace('^z', 'None')\n"
     ]
    }
   ],
   "source": [
    "def cleanm(df):\n",
    "    \"\"\"\n",
    "    清楚每日填报重复, 时间日期drop, update_date 日期加一以匹配前端.\n",
    "    \"\"\"\n",
    "    df = df.fillna(0).drop_duplicates()\n",
    "    df['flag_sum'] = df[['receive', 'send', 'psn']].sum(axis =1)\n",
    "    df = df.sort_values(['update_date', 'ou', 'flag_sum'], ascending=False).groupby(\n",
    "        [\n",
    "            'update_date', 'ou'\n",
    "        ]\n",
    "        ).first().reset_index()\n",
    "    try:\n",
    "        df = df.drop(['year', 'month', 'date', 'flag_sum'], axis = 1)\n",
    "    except:\n",
    "        pass\n",
    "\n",
    "    df['update_date'] = pd.to_datetime(df['update_date']) + timedelta(days = 1)\n",
    "    df['addition_type'] = df['addition_type'].str.replace('^z', 'None')\n",
    "    return df\n",
    "\n",
    "df = cleanm(df)"
   ]
  },
  {
   "cell_type": "code",
   "execution_count": 172,
   "metadata": {},
   "outputs": [
    {
     "data": {
      "text/html": [
       "<div>\n",
       "<style scoped>\n",
       "    .dataframe tbody tr th:only-of-type {\n",
       "        vertical-align: middle;\n",
       "    }\n",
       "\n",
       "    .dataframe tbody tr th {\n",
       "        vertical-align: top;\n",
       "    }\n",
       "\n",
       "    .dataframe thead th {\n",
       "        text-align: right;\n",
       "    }\n",
       "</style>\n",
       "<table border=\"1\" class=\"dataframe\">\n",
       "  <thead>\n",
       "    <tr style=\"text-align: right;\">\n",
       "      <th></th>\n",
       "      <th>update_date</th>\n",
       "      <th>origin_receive</th>\n",
       "      <th>origin_send</th>\n",
       "      <th>origin_psn</th>\n",
       "      <th>honor_receive</th>\n",
       "      <th>honer_send</th>\n",
       "      <th>honor_psn</th>\n",
       "      <th>pearlriver_transport_times</th>\n",
       "      <th>guiyang_transport_times</th>\n",
       "      <th>t_product_receive</th>\n",
       "      <th>t_product_clean</th>\n",
       "      <th>t_product_send</th>\n",
       "      <th>r4_receive</th>\n",
       "      <th>r4_send</th>\n",
       "      <th>r4_psn</th>\n",
       "      <th>nanhua_receive</th>\n",
       "      <th>nanhua_send</th>\n",
       "      <th>nanhau_psn</th>\n",
       "      <th>anshi_receive</th>\n",
       "      <th>anshi_send</th>\n",
       "      <th>anshi_case</th>\n",
       "      <th>te_origin_receive</th>\n",
       "      <th>te_origin_send</th>\n",
       "      <th>te_product_receive</th>\n",
       "      <th>te_product_send</th>\n",
       "      <th>pre_receive</th>\n",
       "      <th>pre_withdraw</th>\n",
       "      <th>honor_transport_times</th>\n",
       "      <th>year</th>\n",
       "      <th>month</th>\n",
       "      <th>date</th>\n",
       "    </tr>\n",
       "  </thead>\n",
       "  <tbody>\n",
       "    <tr>\n",
       "      <th>11630</th>\n",
       "      <td>2021-11-27</td>\n",
       "      <td>781.0</td>\n",
       "      <td>1572.0</td>\n",
       "      <td>7610.0</td>\n",
       "      <td>302.0</td>\n",
       "      <td>528.0</td>\n",
       "      <td>3340.0</td>\n",
       "      <td>0.0</td>\n",
       "      <td>0.0</td>\n",
       "      <td>NaN</td>\n",
       "      <td>NaN</td>\n",
       "      <td>NaN</td>\n",
       "      <td>0.0</td>\n",
       "      <td>26.0</td>\n",
       "      <td>0.0</td>\n",
       "      <td>97.0</td>\n",
       "      <td>989.0</td>\n",
       "      <td>4.0</td>\n",
       "      <td>45707.0</td>\n",
       "      <td>33292.0</td>\n",
       "      <td>0.0</td>\n",
       "      <td>2550.0</td>\n",
       "      <td>1247.0</td>\n",
       "      <td>3335.0</td>\n",
       "      <td>0.0</td>\n",
       "      <td>0.0</td>\n",
       "      <td>0.0</td>\n",
       "      <td>1.0</td>\n",
       "      <td>2021</td>\n",
       "      <td>11</td>\n",
       "      <td>27</td>\n",
       "    </tr>\n",
       "  </tbody>\n",
       "</table>\n",
       "</div>"
      ],
      "text/plain": [
       "      update_date  origin_receive  origin_send  origin_psn  honor_receive  \\\n",
       "11630  2021-11-27           781.0       1572.0      7610.0          302.0   \n",
       "\n",
       "       honer_send  honor_psn  pearlriver_transport_times  \\\n",
       "11630       528.0     3340.0                         0.0   \n",
       "\n",
       "       guiyang_transport_times  t_product_receive  t_product_clean  \\\n",
       "11630                      0.0                NaN              NaN   \n",
       "\n",
       "       t_product_send  r4_receive  r4_send  r4_psn  nanhua_receive  \\\n",
       "11630             NaN         0.0     26.0     0.0            97.0   \n",
       "\n",
       "       nanhua_send  nanhau_psn  anshi_receive  anshi_send  anshi_case  \\\n",
       "11630        989.0         4.0        45707.0     33292.0         0.0   \n",
       "\n",
       "       te_origin_receive  te_origin_send  te_product_receive  te_product_send  \\\n",
       "11630             2550.0          1247.0              3335.0              0.0   \n",
       "\n",
       "       pre_receive  pre_withdraw  honor_transport_times  year month date  \n",
       "11630          0.0           0.0                    1.0  2021    11   27  "
      ]
     },
     "execution_count": 172,
     "metadata": {},
     "output_type": "execute_result"
    }
   ],
   "source": [
    "huawei_output[huawei_output['update_date'] == '2021-11-27']"
   ]
  },
  {
   "cell_type": "code",
   "execution_count": 173,
   "metadata": {},
   "outputs": [
    {
     "data": {
      "text/html": [
       "<div>\n",
       "<style scoped>\n",
       "    .dataframe tbody tr th:only-of-type {\n",
       "        vertical-align: middle;\n",
       "    }\n",
       "\n",
       "    .dataframe tbody tr th {\n",
       "        vertical-align: top;\n",
       "    }\n",
       "\n",
       "    .dataframe thead th {\n",
       "        text-align: right;\n",
       "    }\n",
       "</style>\n",
       "<table border=\"1\" class=\"dataframe\">\n",
       "  <thead>\n",
       "    <tr style=\"text-align: right;\">\n",
       "      <th></th>\n",
       "      <th>update_date</th>\n",
       "      <th>ou</th>\n",
       "      <th>receive</th>\n",
       "      <th>send</th>\n",
       "      <th>psn</th>\n",
       "      <th>transport_times</th>\n",
       "      <th>station</th>\n",
       "      <th>addition_type</th>\n",
       "      <th>addition</th>\n",
       "      <th>flag_sum</th>\n",
       "    </tr>\n",
       "  </thead>\n",
       "  <tbody>\n",
       "    <tr>\n",
       "      <th>2632</th>\n",
       "      <td>2021-11-27</td>\n",
       "      <td>HONORDGHMS</td>\n",
       "      <td>1872.0</td>\n",
       "      <td>7233.0</td>\n",
       "      <td>6751.0</td>\n",
       "      <td>0.0</td>\n",
       "      <td>origin</td>\n",
       "      <td>None</td>\n",
       "      <td>0.0</td>\n",
       "      <td>15856.0</td>\n",
       "    </tr>\n",
       "    <tr>\n",
       "      <th>2633</th>\n",
       "      <td>2021-11-27</td>\n",
       "      <td>HUAWEDGLSS</td>\n",
       "      <td>0.0</td>\n",
       "      <td>0.0</td>\n",
       "      <td>0.0</td>\n",
       "      <td>0.0</td>\n",
       "      <td>t_product</td>\n",
       "      <td>t_product_clean</td>\n",
       "      <td>0.0</td>\n",
       "      <td>0.0</td>\n",
       "    </tr>\n",
       "    <tr>\n",
       "      <th>2634</th>\n",
       "      <td>2021-11-27</td>\n",
       "      <td>HUAWEDGNHS</td>\n",
       "      <td>164.0</td>\n",
       "      <td>1626.0</td>\n",
       "      <td>4.0</td>\n",
       "      <td>0.0</td>\n",
       "      <td>nanhua</td>\n",
       "      <td>None</td>\n",
       "      <td>0.0</td>\n",
       "      <td>1794.0</td>\n",
       "    </tr>\n",
       "    <tr>\n",
       "      <th>2635</th>\n",
       "      <td>2021-11-27</td>\n",
       "      <td>HUAWEDGTRD</td>\n",
       "      <td>0.0</td>\n",
       "      <td>0.0</td>\n",
       "      <td>0.0</td>\n",
       "      <td>1.0</td>\n",
       "      <td>guiyang</td>\n",
       "      <td>None</td>\n",
       "      <td>0.0</td>\n",
       "      <td>0.0</td>\n",
       "    </tr>\n",
       "    <tr>\n",
       "      <th>2636</th>\n",
       "      <td>2021-11-27</td>\n",
       "      <td>HUAWEDHW1S</td>\n",
       "      <td>77.0</td>\n",
       "      <td>50.0</td>\n",
       "      <td>435.0</td>\n",
       "      <td>0.0</td>\n",
       "      <td>r4_receive</td>\n",
       "      <td>None</td>\n",
       "      <td>0.0</td>\n",
       "      <td>562.0</td>\n",
       "    </tr>\n",
       "    <tr>\n",
       "      <th>2637</th>\n",
       "      <td>2021-11-27</td>\n",
       "      <td>HUAWEDHW4S</td>\n",
       "      <td>781.0</td>\n",
       "      <td>3009.0</td>\n",
       "      <td>8500.0</td>\n",
       "      <td>5.0</td>\n",
       "      <td>honor</td>\n",
       "      <td>None</td>\n",
       "      <td>0.0</td>\n",
       "      <td>12290.0</td>\n",
       "    </tr>\n",
       "    <tr>\n",
       "      <th>2638</th>\n",
       "      <td>2021-11-27</td>\n",
       "      <td>HUAWEDHWTS</td>\n",
       "      <td>0.0</td>\n",
       "      <td>0.0</td>\n",
       "      <td>0.0</td>\n",
       "      <td>8.0</td>\n",
       "      <td>pearlriver</td>\n",
       "      <td>None</td>\n",
       "      <td>0.0</td>\n",
       "      <td>0.0</td>\n",
       "    </tr>\n",
       "    <tr>\n",
       "      <th>2639</th>\n",
       "      <td>2021-11-27</td>\n",
       "      <td>NEXPEDGIHS</td>\n",
       "      <td>48751.0</td>\n",
       "      <td>50910.0</td>\n",
       "      <td>0.0</td>\n",
       "      <td>0.0</td>\n",
       "      <td>anshi</td>\n",
       "      <td>anshi_case</td>\n",
       "      <td>2519.0</td>\n",
       "      <td>99661.0</td>\n",
       "    </tr>\n",
       "  </tbody>\n",
       "</table>\n",
       "</div>"
      ],
      "text/plain": [
       "     update_date          ou  receive     send     psn  transport_times  \\\n",
       "2632  2021-11-27  HONORDGHMS   1872.0   7233.0  6751.0              0.0   \n",
       "2633  2021-11-27  HUAWEDGLSS      0.0      0.0     0.0              0.0   \n",
       "2634  2021-11-27  HUAWEDGNHS    164.0   1626.0     4.0              0.0   \n",
       "2635  2021-11-27  HUAWEDGTRD      0.0      0.0     0.0              1.0   \n",
       "2636  2021-11-27  HUAWEDHW1S     77.0     50.0   435.0              0.0   \n",
       "2637  2021-11-27  HUAWEDHW4S    781.0   3009.0  8500.0              5.0   \n",
       "2638  2021-11-27  HUAWEDHWTS      0.0      0.0     0.0              8.0   \n",
       "2639  2021-11-27  NEXPEDGIHS  48751.0  50910.0     0.0              0.0   \n",
       "\n",
       "         station    addition_type  addition  flag_sum  \n",
       "2632      origin             None       0.0   15856.0  \n",
       "2633   t_product  t_product_clean       0.0       0.0  \n",
       "2634      nanhua             None       0.0    1794.0  \n",
       "2635     guiyang             None       0.0       0.0  \n",
       "2636  r4_receive             None       0.0     562.0  \n",
       "2637       honor             None       0.0   12290.0  \n",
       "2638  pearlriver             None       0.0       0.0  \n",
       "2639       anshi       anshi_case    2519.0   99661.0  "
      ]
     },
     "execution_count": 173,
     "metadata": {},
     "output_type": "execute_result"
    }
   ],
   "source": [
    "df.query(\"update_date == '2021-11-27'\")"
   ]
  },
  {
   "cell_type": "code",
   "execution_count": null,
   "metadata": {},
   "outputs": [],
   "source": [
    "list(pd.Series(huawei_output.columns).str.extract(\"(\" + 'pearl' + \"[a-z]+)\").dropna()[0])[0]"
   ]
  },
  {
   "cell_type": "code",
   "execution_count": 146,
   "metadata": {},
   "outputs": [
    {
     "name": "stdout",
     "output_type": "stream",
     "text": [
      "duplicates check Empty DataFrame\n",
      "Columns: [update_date, ou, receive, send, psn, transport_times, station, addition_type, addition]\n",
      "Index: []\n"
     ]
    }
   ],
   "source": [
    "print('duplicates check',df[df[['update_date', 'ou']].duplicated()].sort_values(['update_date', 'ou']))"
   ]
  }
 ],
 "metadata": {
  "interpreter": {
   "hash": "47b50d2908d96196e4220cfb4e81faa93803065ea975497e7026f672c1f58470"
  },
  "kernelspec": {
   "display_name": "Python 3.8.8 64-bit ('siming': conda)",
   "language": "python",
   "name": "python3"
  },
  "language_info": {
   "codemirror_mode": {
    "name": "ipython",
    "version": 3
   },
   "file_extension": ".py",
   "mimetype": "text/x-python",
   "name": "python",
   "nbconvert_exporter": "python",
   "pygments_lexer": "ipython3",
   "version": "3.8.8"
  },
  "orig_nbformat": 4
 },
 "nbformat": 4,
 "nbformat_minor": 2
}
