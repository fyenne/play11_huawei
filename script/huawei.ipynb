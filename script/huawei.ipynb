{
 "cells": [
  {
   "cell_type": "code",
   "execution_count": 1,
   "metadata": {},
   "outputs": [
    {
     "data": {
      "text/plain": [
       "['gar.xlsx',\n",
       " 'huawei_daily.csv',\n",
       " 'huawei_output.csv',\n",
       " '入湖数据关系.csv',\n",
       " '入湖数据关系.xlsx']"
      ]
     },
     "execution_count": 1,
     "metadata": {},
     "output_type": "execute_result"
    }
   ],
   "source": [
    "from fyenn_class import  pd_loaddata, pd, np \n",
    "from datetime import datetime, timedelta\n",
    "\n",
    "path = '../data_down/'\n",
    "os.listdir(path)\n"
   ]
  },
  {
   "cell_type": "code",
   "execution_count": 2,
   "metadata": {},
   "outputs": [],
   "source": [
    "# '{note:=>50}'.format(note='Lorem') + '{note:=>50}'.format(note='')\n",
    "# rel \n",
    "huawei_output = pd_loaddata.pd_csv(path + 'huawei_daily.csv')\n",
    "# huawei_output = huawei_output[huawei_output['rn'].astype(int) == 1]\n"
   ]
  },
  {
   "cell_type": "code",
   "execution_count": 5,
   "metadata": {},
   "outputs": [
    {
     "data": {
      "text/plain": [
       "Index(['createtime', 'updatetime', 'update_person', 'update_date',\n",
       "       'origin_receive', 'origin_send', 'origin_psn', 'honor_receive',\n",
       "       'honer_send', 'honor_psn', 'pearlriver_transport_times',\n",
       "       'guiyang_transport_times', 't_product_receive', 't_product_clean',\n",
       "       't_product_send', 'r4_receive', 'r4_send', 'r4_psn', 'nanhua_receive',\n",
       "       'nanhua_send', 'nanhau_psn', 'anshi_receive', 'anshi_send',\n",
       "       'anshi_case', 'te_origin_receive', 'te_origin_send',\n",
       "       'te_product_receive', 'te_product_send', 'pre_receive', 'pre_withdraw',\n",
       "       'honor_transport_times', 'id', 'appid', 'entryid', 'creator_id',\n",
       "       'creator_name', 'creator_username', 'creator_status', 'updater_id',\n",
       "       'updater_name', 'updater_username', 'updater_status'],\n",
       "      dtype='object')"
      ]
     },
     "execution_count": 5,
     "metadata": {},
     "output_type": "execute_result"
    }
   ],
   "source": [
    "huawei_output.columns"
   ]
  },
  {
   "cell_type": "code",
   "execution_count": 6,
   "metadata": {},
   "outputs": [],
   "source": [
    "# df[['admin', '*']].to_csv('./cfg.csv', index =None)"
   ]
  },
  {
   "cell_type": "code",
   "execution_count": 21,
   "metadata": {},
   "outputs": [],
   "source": [
    "\n",
    "col = 'update_date'\n",
    "huawei_output[col] = huawei_output[col].astype(str).str.slice(0,10)\n",
    "huawei_output = pd.concat([huawei_output.reset_index(), pd.DataFrame(list(huawei_output[col].str.split('-')))], axis =1)\n",
    "\n"
   ]
  },
  {
   "cell_type": "code",
   "execution_count": 6,
   "metadata": {},
   "outputs": [
    {
     "name": "stdout",
     "output_type": "stream",
     "text": [
      "Wall time: 54 ms\n"
     ]
    },
    {
     "name": "stderr",
     "output_type": "stream",
     "text": [
      "<timed exec>:28: UserWarning: This pattern has match groups. To actually get the groups, use str.extract.\n"
     ]
    }
   ],
   "source": [
    "%%time\n",
    "# huawei_output = pd_loaddata.pd_csv(path + 'huawei_output.csv')\n",
    "# huawei_output = huawei_output[huawei_output['rn'].astype(int) == 1]\n",
    "\n",
    "# huawei_daily = pd_loaddata.pd_csv(path + 'huawei_daily.csv')\n",
    "# rel = pd_loaddata.pd_excel(path + '入湖数据关系', 0)\n",
    "# huawei_output.shape\n",
    "# pd_loaddata.pd_show(15, None)\n",
    "# rel = rel.drop(['部门', '站点'],axis = 1).drop_duplicates();rel\n",
    "def datetime_(coach, col):\n",
    "    \"\"\"\n",
    "    detail time to date; \n",
    "    split and assign to 3 cols of year m d\n",
    "    \"\"\"\n",
    "    coach[col] = coach[col].astype(str).str.slice(0,10)\n",
    "    coach = pd.concat([coach.reset_index(drop = True), pd.DataFrame(list(coach[col].str.split('-')))], axis =1)\n",
    "    coach = coach[coach[[0,1,2]].fillna(0).astype(int).sum(axis = 1) != 0]\n",
    "    coach = coach.rename({0:'year', 1:'month', 2: 'date'}, axis=1)\n",
    "    return coach\n",
    "huawei_output = datetime_(coach=huawei_output, col='update_date').drop(['createtime', 'updatetime'], axis = 1)\n",
    "huawei_output = huawei_output.sort_values('update_date')\n",
    "def search_col(df, str):\n",
    "    \"\"\"\n",
    "    列名正则搜索.\n",
    "    \"\"\"\n",
    "    return list(pd.Series(df.columns)[pd.Series(df.columns).str.match(str)])\n",
    "# 识别异常列名\n",
    "tran_col = list(pd.Series(huawei_output.columns)[\n",
    "    pd.Series(huawei_output.columns).str.contains(\n",
    "        '(receive|psn|send|transport_times|update_date|year|month|date|id)'\n",
    "        ) == False\n",
    "        ])\n",
    "\n",
    "\n",
    "# clean , case, withdraw)"
   ]
  },
  {
   "cell_type": "code",
   "execution_count": 15,
   "metadata": {},
   "outputs": [
    {
     "data": {
      "text/plain": [
       "Index(['update_person', 'update_date', 'origin_receive', 'origin_send',\n",
       "       'origin_psn', 'honor_receive', 'honer_send', 'honor_psn',\n",
       "       'pearlriver_transport_times', 'guiyang_transport_times',\n",
       "       't_product_receive', 't_product_clean', 't_product_send', 'r4_receive',\n",
       "       'r4_send', 'r4_psn', 'nanhua_receive', 'nanhua_send', 'nanhau_psn',\n",
       "       'anshi_receive', 'anshi_send', 'anshi_case', 'te_origin_receive',\n",
       "       'te_origin_send', 'te_product_receive', 'te_product_send',\n",
       "       'pre_receive', 'pre_withdraw', 'honor_transport_times', 'id', 'appid',\n",
       "       'entryid', 'creator_id', 'creator_name', 'creator_username',\n",
       "       'creator_status', 'updater_id', 'updater_name', 'updater_username',\n",
       "       'updater_status', 'year', 'month', 'date'],\n",
       "      dtype='object')"
      ]
     },
     "execution_count": 15,
     "metadata": {},
     "output_type": "execute_result"
    }
   ],
   "source": [
    "huawei_output.columns"
   ]
  },
  {
   "cell_type": "code",
   "execution_count": 5,
   "metadata": {},
   "outputs": [
    {
     "data": {
      "text/plain": [
       "Series([], dtype: object)"
      ]
     },
     "execution_count": 5,
     "metadata": {},
     "output_type": "execute_result"
    }
   ],
   "source": [
    "pd.Series(huawei_output.columns)[pd.Series(huawei_output.columns).str.contains('t4\\_')]"
   ]
  },
  {
   "cell_type": "code",
   "execution_count": 16,
   "metadata": {},
   "outputs": [],
   "source": [
    "huawei_output['te_origin_receive'] = huawei_output['te_origin_receive'] + huawei_output['te_product_receive'] \n",
    "huawei_output['te_origin_send'] = huawei_output['te_origin_send'] + huawei_output['te_product_send'] \n",
    "huawei_output = huawei_output.drop(['te_product_send', 'te_product_receive'], axis = 1)"
   ]
  },
  {
   "cell_type": "code",
   "execution_count": 20,
   "metadata": {},
   "outputs": [
    {
     "data": {
      "text/plain": [
       "{'origi': 'HUAWEDHW4S',\n",
       " 'hon': 'HONORDGHMS',\n",
       " 'pearl': 'HUAWEDHWTS',\n",
       " 'guiy': 'HUAWEDGTRD',\n",
       " '^t\\\\_': 'HUAWEDGLSS',\n",
       " 'r4\\\\_': 'HUAWEDHW1S',\n",
       " 'nanh': 'HUAWEDGNHS',\n",
       " 'ansh': 'NEXPEDGWHS',\n",
       " 'te\\\\_': 'TYCOTSDXXS'}"
      ]
     },
     "execution_count": 20,
     "metadata": {},
     "output_type": "execute_result"
    }
   ],
   "source": [
    "\n",
    "\"\"\"\n",
    "ou 和正则匹配\n",
    "\"\"\"\n",
    "# relist = ['hon', 'origi', 'pearl', 'guiy', '^t\\_', 'r4\\_', 'nanh', 'ansh', 'te']\n",
    "relist = ['origi', 'hon', 'pearl', 'guiy', '^t\\_', 'r4\\_', 'nanh', 'ansh', 'te\\_']\n",
    "oulist = ['HUAWEDHW4S',\n",
    "    'HONORDGHMS',\n",
    "    'HUAWEDHWTS',\n",
    "    'HUAWEDGTRD',\n",
    "    'HUAWEDGLSS',\n",
    "    'HUAWEDHW1S',\n",
    "    'HUAWEDGNHS',\n",
    "    'NEXPEDGWHS',\n",
    "    'TYCOTSDXXS',]\n",
    "    \n",
    "try:\n",
    "    del dict \n",
    "except:\n",
    "    pass\n",
    "dict = dict(zip(relist, oulist))\n",
    "# re = 'pear'\n",
    "# pd.Series(huawei_output.columns).str.extract(\"(\" + re + \"[a-z]+)\").dropna()\n",
    "dict"
   ]
  },
  {
   "cell_type": "code",
   "execution_count": 14,
   "metadata": {},
   "outputs": [
    {
     "name": "stdout",
     "output_type": "stream",
     "text": [
      "origi HUAWEDHW4S\n",
      "Index(['receive', 'send', 'psn', 'update_date', 'year', 'month', 'date'], dtype='object') \n",
      "       receive  send  psn update_date  year month date\n",
      "1279      0.0   0.0  NaN  2020-12-31  2020    12   31\n",
      "229       0.0   0.0  NaN  2020-12-31  2020    12   31\n",
      "744       0.0   0.0  NaN  2020-12-31  2020    12   31\n",
      "743     117.0  93.0  NaN  2021-01-01  2021    01   01\n",
      "1278    117.0  93.0  NaN  2021-01-01  2021    01   01\n",
      "hon HONORDGHMS\n",
      "Index(['receive', 'send', 'psn', 'transport_times', 'update_date', 'year',\n",
      "       'month', 'date'],\n",
      "      dtype='object') \n",
      "       receive  send  psn  transport_times update_date  year month date\n",
      "1279      0.0   0.0  NaN              NaN  2020-12-31  2020    12   31\n",
      "229       0.0   0.0  NaN              NaN  2020-12-31  2020    12   31\n",
      "744       0.0   0.0  NaN              NaN  2020-12-31  2020    12   31\n",
      "743      14.0   0.0  NaN              NaN  2021-01-01  2021    01   01\n",
      "1278     14.0   0.0  NaN              NaN  2021-01-01  2021    01   01\n",
      "pearl HUAWEDHWTS\n",
      "Index(['transport_times', 'update_date', 'year', 'month', 'date'], dtype='object') \n",
      "       transport_times update_date  year month date\n",
      "1279              0.0  2020-12-31  2020    12   31\n",
      "229               0.0  2020-12-31  2020    12   31\n",
      "744               0.0  2020-12-31  2020    12   31\n",
      "743               0.0  2021-01-01  2021    01   01\n",
      "1278              0.0  2021-01-01  2021    01   01\n",
      "guiy HUAWEDGTRD\n",
      "Index(['transport_times', 'update_date', 'year', 'month', 'date'], dtype='object') \n",
      "       transport_times update_date  year month date\n",
      "1279              0.0  2020-12-31  2020    12   31\n",
      "229               0.0  2020-12-31  2020    12   31\n",
      "744               0.0  2020-12-31  2020    12   31\n",
      "743               0.0  2021-01-01  2021    01   01\n",
      "1278              0.0  2021-01-01  2021    01   01\n",
      "^t\\_ HUAWEDGLSS\n",
      "Index(['receive', nan, 'send', 'update_date', 'year', 'month', 'date'], dtype='object') \n",
      "       receive  NaN  send update_date  year month date\n",
      "1279      0.0  0.0   NaN  2020-12-31  2020    12   31\n",
      "229       0.0  0.0   NaN  2020-12-31  2020    12   31\n",
      "744       0.0  0.0   NaN  2020-12-31  2020    12   31\n",
      "743       0.0  0.0   NaN  2021-01-01  2021    01   01\n",
      "1278      0.0  0.0   NaN  2021-01-01  2021    01   01\n",
      "r4\\_ HUAWEDHW1S\n",
      "Index(['receive', 'send', 'psn', 'update_date', 'year', 'month', 'date'], dtype='object') \n",
      "       receive  send  psn update_date  year month date\n",
      "1279      0.0   0.0  0.0  2020-12-31  2020    12   31\n",
      "229       0.0   0.0  0.0  2020-12-31  2020    12   31\n",
      "744       0.0   0.0  0.0  2020-12-31  2020    12   31\n",
      "743       0.0  42.0  0.0  2021-01-01  2021    01   01\n",
      "1278      0.0  42.0  0.0  2021-01-01  2021    01   01\n",
      "nanh HUAWEDGNHS\n",
      "Index(['receive', 'send', 'psn', 'update_date', 'year', 'month', 'date'], dtype='object') \n",
      "       receive  send    psn update_date  year month date\n",
      "1279      0.0   0.0    0.0  2020-12-31  2020    12   31\n",
      "229       0.0   0.0    0.0  2020-12-31  2020    12   31\n",
      "744       0.0   0.0    0.0  2020-12-31  2020    12   31\n",
      "743       0.0  67.0  680.0  2021-01-01  2021    01   01\n",
      "1278      0.0  67.0  680.0  2021-01-01  2021    01   01\n",
      "ansh NEXPEDGWHS\n",
      "Index(['receive', 'send', nan, 'update_date', 'year', 'month', 'date'], dtype='object') \n",
      "       receive      send     NaN update_date  year month date\n",
      "1279      NaN   64118.0     0.0  2020-12-31  2020    12   31\n",
      "229       NaN   64118.0     0.0  2020-12-31  2020    12   31\n",
      "744       NaN   64118.0     0.0  2020-12-31  2020    12   31\n",
      "743       NaN  122632.0  3863.0  2021-01-01  2021    01   01\n",
      "1278      NaN  122632.0  3863.0  2021-01-01  2021    01   01\n",
      "te\\_ TYCOTSDXXS\n",
      "Index(['receive', 'send', 'receive', 'send', 'update_date', 'year', 'month',\n",
      "       'date'],\n",
      "      dtype='object') \n",
      "       receive  send  receive  send update_date  year month date\n",
      "1279      0.0   0.0      0.0   0.0  2020-12-31  2020    12   31\n",
      "229       0.0   0.0      0.0   0.0  2020-12-31  2020    12   31\n",
      "744       0.0   0.0      0.0   0.0  2020-12-31  2020    12   31\n",
      "743     328.0   0.0   1028.0   0.0  2021-01-01  2021    01   01\n",
      "1278    328.0   0.0   1028.0   0.0  2021-01-01  2021    01   01\n"
     ]
    },
    {
     "ename": "InvalidIndexError",
     "evalue": "Reindexing only valid with uniquely valued Index objects",
     "output_type": "error",
     "traceback": [
      "\u001b[1;31m---------------------------------------------------------------------------\u001b[0m",
      "\u001b[1;31mInvalidIndexError\u001b[0m                         Traceback (most recent call last)",
      "\u001b[1;32mC:\\Users\\DSCSHA~1\\AppData\\Local\\Temp/ipykernel_27488/1340766352.py\u001b[0m in \u001b[0;36m<module>\u001b[1;34m\u001b[0m\n\u001b[0;32m     29\u001b[0m \u001b[1;32mfor\u001b[0m \u001b[0mre\u001b[0m \u001b[1;32min\u001b[0m \u001b[0mdict\u001b[0m\u001b[1;33m:\u001b[0m\u001b[1;33m\u001b[0m\u001b[1;33m\u001b[0m\u001b[0m\n\u001b[0;32m     30\u001b[0m     \u001b[0mprint\u001b[0m\u001b[1;33m(\u001b[0m\u001b[0mre\u001b[0m\u001b[1;33m,\u001b[0m \u001b[0mdict\u001b[0m\u001b[1;33m[\u001b[0m\u001b[0mre\u001b[0m\u001b[1;33m]\u001b[0m\u001b[1;33m)\u001b[0m\u001b[1;33m\u001b[0m\u001b[1;33m\u001b[0m\u001b[0m\n\u001b[1;32m---> 31\u001b[1;33m     \u001b[0mdf\u001b[0m \u001b[1;33m=\u001b[0m \u001b[0mpd\u001b[0m\u001b[1;33m.\u001b[0m\u001b[0mconcat\u001b[0m\u001b[1;33m(\u001b[0m\u001b[1;33m[\u001b[0m\u001b[0mdf\u001b[0m\u001b[1;33m,\u001b[0m \u001b[0mconcat_\u001b[0m\u001b[1;33m(\u001b[0m\u001b[0mre\u001b[0m\u001b[1;33m,\u001b[0m \u001b[0mdict\u001b[0m\u001b[1;33m[\u001b[0m\u001b[0mre\u001b[0m\u001b[1;33m]\u001b[0m\u001b[1;33m)\u001b[0m\u001b[1;33m]\u001b[0m\u001b[1;33m,\u001b[0m \u001b[0maxis\u001b[0m \u001b[1;33m=\u001b[0m \u001b[1;36m0\u001b[0m\u001b[1;33m)\u001b[0m\u001b[1;33m\u001b[0m\u001b[1;33m\u001b[0m\u001b[0m\n\u001b[0m",
      "\u001b[1;32m~\\Miniconda3\\envs\\siming\\lib\\site-packages\\pandas\\util\\_decorators.py\u001b[0m in \u001b[0;36mwrapper\u001b[1;34m(*args, **kwargs)\u001b[0m\n\u001b[0;32m    309\u001b[0m                     \u001b[0mstacklevel\u001b[0m\u001b[1;33m=\u001b[0m\u001b[0mstacklevel\u001b[0m\u001b[1;33m,\u001b[0m\u001b[1;33m\u001b[0m\u001b[1;33m\u001b[0m\u001b[0m\n\u001b[0;32m    310\u001b[0m                 )\n\u001b[1;32m--> 311\u001b[1;33m             \u001b[1;32mreturn\u001b[0m \u001b[0mfunc\u001b[0m\u001b[1;33m(\u001b[0m\u001b[1;33m*\u001b[0m\u001b[0margs\u001b[0m\u001b[1;33m,\u001b[0m \u001b[1;33m**\u001b[0m\u001b[0mkwargs\u001b[0m\u001b[1;33m)\u001b[0m\u001b[1;33m\u001b[0m\u001b[1;33m\u001b[0m\u001b[0m\n\u001b[0m\u001b[0;32m    312\u001b[0m \u001b[1;33m\u001b[0m\u001b[0m\n\u001b[0;32m    313\u001b[0m         \u001b[1;32mreturn\u001b[0m \u001b[0mwrapper\u001b[0m\u001b[1;33m\u001b[0m\u001b[1;33m\u001b[0m\u001b[0m\n",
      "\u001b[1;32m~\\Miniconda3\\envs\\siming\\lib\\site-packages\\pandas\\core\\reshape\\concat.py\u001b[0m in \u001b[0;36mconcat\u001b[1;34m(objs, axis, join, ignore_index, keys, levels, names, verify_integrity, sort, copy)\u001b[0m\n\u001b[0;32m    305\u001b[0m     )\n\u001b[0;32m    306\u001b[0m \u001b[1;33m\u001b[0m\u001b[0m\n\u001b[1;32m--> 307\u001b[1;33m     \u001b[1;32mreturn\u001b[0m \u001b[0mop\u001b[0m\u001b[1;33m.\u001b[0m\u001b[0mget_result\u001b[0m\u001b[1;33m(\u001b[0m\u001b[1;33m)\u001b[0m\u001b[1;33m\u001b[0m\u001b[1;33m\u001b[0m\u001b[0m\n\u001b[0m\u001b[0;32m    308\u001b[0m \u001b[1;33m\u001b[0m\u001b[0m\n\u001b[0;32m    309\u001b[0m \u001b[1;33m\u001b[0m\u001b[0m\n",
      "\u001b[1;32m~\\Miniconda3\\envs\\siming\\lib\\site-packages\\pandas\\core\\reshape\\concat.py\u001b[0m in \u001b[0;36mget_result\u001b[1;34m(self)\u001b[0m\n\u001b[0;32m    526\u001b[0m                     \u001b[0mobj_labels\u001b[0m \u001b[1;33m=\u001b[0m \u001b[0mobj\u001b[0m\u001b[1;33m.\u001b[0m\u001b[0maxes\u001b[0m\u001b[1;33m[\u001b[0m\u001b[1;36m1\u001b[0m \u001b[1;33m-\u001b[0m \u001b[0max\u001b[0m\u001b[1;33m]\u001b[0m\u001b[1;33m\u001b[0m\u001b[1;33m\u001b[0m\u001b[0m\n\u001b[0;32m    527\u001b[0m                     \u001b[1;32mif\u001b[0m \u001b[1;32mnot\u001b[0m \u001b[0mnew_labels\u001b[0m\u001b[1;33m.\u001b[0m\u001b[0mequals\u001b[0m\u001b[1;33m(\u001b[0m\u001b[0mobj_labels\u001b[0m\u001b[1;33m)\u001b[0m\u001b[1;33m:\u001b[0m\u001b[1;33m\u001b[0m\u001b[1;33m\u001b[0m\u001b[0m\n\u001b[1;32m--> 528\u001b[1;33m                         \u001b[0mindexers\u001b[0m\u001b[1;33m[\u001b[0m\u001b[0max\u001b[0m\u001b[1;33m]\u001b[0m \u001b[1;33m=\u001b[0m \u001b[0mobj_labels\u001b[0m\u001b[1;33m.\u001b[0m\u001b[0mget_indexer\u001b[0m\u001b[1;33m(\u001b[0m\u001b[0mnew_labels\u001b[0m\u001b[1;33m)\u001b[0m\u001b[1;33m\u001b[0m\u001b[1;33m\u001b[0m\u001b[0m\n\u001b[0m\u001b[0;32m    529\u001b[0m \u001b[1;33m\u001b[0m\u001b[0m\n\u001b[0;32m    530\u001b[0m                 \u001b[0mmgrs_indexers\u001b[0m\u001b[1;33m.\u001b[0m\u001b[0mappend\u001b[0m\u001b[1;33m(\u001b[0m\u001b[1;33m(\u001b[0m\u001b[0mobj\u001b[0m\u001b[1;33m.\u001b[0m\u001b[0m_mgr\u001b[0m\u001b[1;33m,\u001b[0m \u001b[0mindexers\u001b[0m\u001b[1;33m)\u001b[0m\u001b[1;33m)\u001b[0m\u001b[1;33m\u001b[0m\u001b[1;33m\u001b[0m\u001b[0m\n",
      "\u001b[1;32m~\\Miniconda3\\envs\\siming\\lib\\site-packages\\pandas\\core\\indexes\\base.py\u001b[0m in \u001b[0;36mget_indexer\u001b[1;34m(self, target, method, limit, tolerance)\u001b[0m\n\u001b[0;32m   3440\u001b[0m \u001b[1;33m\u001b[0m\u001b[0m\n\u001b[0;32m   3441\u001b[0m         \u001b[1;32mif\u001b[0m \u001b[1;32mnot\u001b[0m \u001b[0mself\u001b[0m\u001b[1;33m.\u001b[0m\u001b[0m_index_as_unique\u001b[0m\u001b[1;33m:\u001b[0m\u001b[1;33m\u001b[0m\u001b[1;33m\u001b[0m\u001b[0m\n\u001b[1;32m-> 3442\u001b[1;33m             \u001b[1;32mraise\u001b[0m \u001b[0mInvalidIndexError\u001b[0m\u001b[1;33m(\u001b[0m\u001b[0mself\u001b[0m\u001b[1;33m.\u001b[0m\u001b[0m_requires_unique_msg\u001b[0m\u001b[1;33m)\u001b[0m\u001b[1;33m\u001b[0m\u001b[1;33m\u001b[0m\u001b[0m\n\u001b[0m\u001b[0;32m   3443\u001b[0m \u001b[1;33m\u001b[0m\u001b[0m\n\u001b[0;32m   3444\u001b[0m         \u001b[1;32mif\u001b[0m \u001b[1;32mnot\u001b[0m \u001b[0mself\u001b[0m\u001b[1;33m.\u001b[0m\u001b[0m_should_compare\u001b[0m\u001b[1;33m(\u001b[0m\u001b[0mtarget\u001b[0m\u001b[1;33m)\u001b[0m \u001b[1;32mand\u001b[0m \u001b[1;32mnot\u001b[0m \u001b[0mis_interval_dtype\u001b[0m\u001b[1;33m(\u001b[0m\u001b[0mself\u001b[0m\u001b[1;33m.\u001b[0m\u001b[0mdtype\u001b[0m\u001b[1;33m)\u001b[0m\u001b[1;33m:\u001b[0m\u001b[1;33m\u001b[0m\u001b[1;33m\u001b[0m\u001b[0m\n",
      "\u001b[1;31mInvalidIndexError\u001b[0m: Reindexing only valid with uniquely valued Index objects"
     ]
    }
   ],
   "source": [
    "def concat_(re, ou):\n",
    "    huawei_output[search_col(huawei_output, re)].shape\n",
    "    # n = 4 - huawei_output[search_col(huawei_output, re)].shape[1]\n",
    "    # m = huawei_output[search_col(huawei_output, re)].shape[0]\n",
    "    # print(m, n)\n",
    "    data = pd.concat(\n",
    "        [\n",
    "            huawei_output[search_col(huawei_output, re)], \n",
    "            # pd.DataFrame(np.zeros(shape=(m, n), dtype=int)),\n",
    "            huawei_output[['update_date', 'year', 'month', 'date']]\n",
    "        ]\n",
    "        , axis = 1).sort_values('update_date')\n",
    "    # print(data.shape)\n",
    "    data.columns = list(pd.Series(data.columns).str.extract(\n",
    "        '(receive|psn|send|transport_times|update_date|year|month|date)'\n",
    "        )[0])\n",
    "    try:\n",
    "        print(data.columns, '\\n', data.head())\n",
    "        data = data.rename({np.nan:'addition'}, axis = 1)\n",
    "    except:\n",
    "        pass\n",
    "    data['ou'] = ou\n",
    "    data['station'] = pd.Series(huawei_output.columns).str.extract(\"(\" + re + \"[a-z]+)\").dropna().iloc[0,0]\n",
    "    data['addition_type'] = pd.Series(tran_col).str.extract(\"(\" + re + \".+)\").fillna('z').sort_values(0).iloc[0,0]\n",
    "     \n",
    "    return data.reset_index(drop=True)\n",
    "\n",
    "df = pd.DataFrame()\n",
    "for re in dict:\n",
    "    print(re, dict[re])\n",
    "    df = pd.concat([df, concat_(re, dict[re])], axis = 0)\n"
   ]
  },
  {
   "cell_type": "code",
   "execution_count": 24,
   "metadata": {},
   "outputs": [
    {
     "data": {
      "text/plain": [
       "'anshi_case'"
      ]
     },
     "execution_count": 24,
     "metadata": {},
     "output_type": "execute_result"
    }
   ],
   "source": [
    "pd.Series(tran_col).str.extract(\"(\" + 'pear' + \".+)\").fillna('zull')\n",
    "# pd.Series(huawei_output.columns).str.extract(\"(\" + 't_' + \".+)\").dropna().iloc[0,0]\n",
    "pd.Series(tran_col).str.extract(\"(\" + 'anshi' + \".+)\").fillna('z').sort_values(0).iloc[0,0]"
   ]
  },
  {
   "cell_type": "code",
   "execution_count": 25,
   "metadata": {},
   "outputs": [
    {
     "name": "stderr",
     "output_type": "stream",
     "text": [
      "C:\\Users\\DSCSHA~1\\AppData\\Local\\Temp/ipykernel_10992/680750927.py:18: FutureWarning: The default value of regex will change from True to False in a future version.\n",
      "  df['addition_type'] = df['addition_type'].str.replace('^z', 'None')\n"
     ]
    }
   ],
   "source": [
    "def cleanm(df):\n",
    "    \"\"\"\n",
    "    清楚每日填报重复, 时间日期drop, update_date 日期加一以匹配前端.\n",
    "    \"\"\"\n",
    "    df = df.fillna(0).drop_duplicates()\n",
    "    df['flag_sum'] = df[['receive', 'send', 'psn']].sum(axis =1)\n",
    "    df = df.sort_values(['update_date', 'ou', 'flag_sum'], ascending=False).groupby(\n",
    "        [\n",
    "            'update_date', 'ou'\n",
    "        ]\n",
    "        ).first().reset_index()\n",
    "    try:\n",
    "        df = df.drop(['year', 'month', 'date', 'flag_sum'], axis = 1)\n",
    "    except:\n",
    "        pass\n",
    "\n",
    "    df['update_date'] = pd.to_datetime(df['update_date']) + timedelta(days = 1)\n",
    "    df['addition_type'] = df['addition_type'].str.replace('^z', 'None')\n",
    "    return df\n",
    "\n",
    "df = cleanm(df)"
   ]
  },
  {
   "cell_type": "code",
   "execution_count": 26,
   "metadata": {},
   "outputs": [
    {
     "data": {
      "text/html": [
       "<div>\n",
       "<style scoped>\n",
       "    .dataframe tbody tr th:only-of-type {\n",
       "        vertical-align: middle;\n",
       "    }\n",
       "\n",
       "    .dataframe tbody tr th {\n",
       "        vertical-align: top;\n",
       "    }\n",
       "\n",
       "    .dataframe thead th {\n",
       "        text-align: right;\n",
       "    }\n",
       "</style>\n",
       "<table border=\"1\" class=\"dataframe\">\n",
       "  <thead>\n",
       "    <tr style=\"text-align: right;\">\n",
       "      <th></th>\n",
       "      <th>update_date</th>\n",
       "      <th>origin_receive</th>\n",
       "      <th>origin_send</th>\n",
       "      <th>origin_psn</th>\n",
       "      <th>honor_receive</th>\n",
       "      <th>honer_send</th>\n",
       "      <th>honor_psn</th>\n",
       "      <th>pearlriver_transport_times</th>\n",
       "      <th>guiyang_transport_times</th>\n",
       "      <th>t_product_receive</th>\n",
       "      <th>...</th>\n",
       "      <th>anshi_send</th>\n",
       "      <th>anshi_case</th>\n",
       "      <th>te_origin_receive</th>\n",
       "      <th>te_origin_send</th>\n",
       "      <th>pre_receive</th>\n",
       "      <th>pre_withdraw</th>\n",
       "      <th>honor_transport_times</th>\n",
       "      <th>year</th>\n",
       "      <th>month</th>\n",
       "      <th>date</th>\n",
       "    </tr>\n",
       "  </thead>\n",
       "  <tbody>\n",
       "    <tr>\n",
       "      <th>11630</th>\n",
       "      <td>2021-11-27</td>\n",
       "      <td>781.0</td>\n",
       "      <td>1572.0</td>\n",
       "      <td>7610.0</td>\n",
       "      <td>302.0</td>\n",
       "      <td>528.0</td>\n",
       "      <td>3340.0</td>\n",
       "      <td>0.0</td>\n",
       "      <td>0.0</td>\n",
       "      <td>NaN</td>\n",
       "      <td>...</td>\n",
       "      <td>33292.0</td>\n",
       "      <td>0.0</td>\n",
       "      <td>5885.0</td>\n",
       "      <td>1247.0</td>\n",
       "      <td>0.0</td>\n",
       "      <td>0.0</td>\n",
       "      <td>1.0</td>\n",
       "      <td>2021</td>\n",
       "      <td>11</td>\n",
       "      <td>27</td>\n",
       "    </tr>\n",
       "  </tbody>\n",
       "</table>\n",
       "<p>1 rows × 29 columns</p>\n",
       "</div>"
      ],
      "text/plain": [
       "      update_date  origin_receive  origin_send  origin_psn  honor_receive  \\\n",
       "11630  2021-11-27           781.0       1572.0      7610.0          302.0   \n",
       "\n",
       "       honer_send  honor_psn  pearlriver_transport_times  \\\n",
       "11630       528.0     3340.0                         0.0   \n",
       "\n",
       "       guiyang_transport_times  t_product_receive  ...  anshi_send  \\\n",
       "11630                      0.0                NaN  ...     33292.0   \n",
       "\n",
       "       anshi_case  te_origin_receive  te_origin_send  pre_receive  \\\n",
       "11630         0.0             5885.0          1247.0          0.0   \n",
       "\n",
       "       pre_withdraw  honor_transport_times  year  month  date  \n",
       "11630           0.0                    1.0  2021     11    27  \n",
       "\n",
       "[1 rows x 29 columns]"
      ]
     },
     "execution_count": 26,
     "metadata": {},
     "output_type": "execute_result"
    }
   ],
   "source": [
    "huawei_output[huawei_output['update_date'] == '2021-11-27']"
   ]
  },
  {
   "cell_type": "code",
   "execution_count": 185,
   "metadata": {},
   "outputs": [],
   "source": [
    "df[['receive', 'send', 'psn', 'transport_times', 'addition']] = df[\n",
    "        ['receive', 'send', 'psn', 'transport_times', 'addition']\n",
    "        ].astype(int)"
   ]
  },
  {
   "cell_type": "code",
   "execution_count": 186,
   "metadata": {},
   "outputs": [
    {
     "name": "stdout",
     "output_type": "stream",
     "text": [
      "<class 'pandas.core.frame.DataFrame'>\n",
      "RangeIndex: 2656 entries, 0 to 2655\n",
      "Data columns (total 9 columns):\n",
      " #   Column           Non-Null Count  Dtype         \n",
      "---  ------           --------------  -----         \n",
      " 0   update_date      2656 non-null   datetime64[ns]\n",
      " 1   ou               2656 non-null   object        \n",
      " 2   receive          2656 non-null   int32         \n",
      " 3   send             2656 non-null   int32         \n",
      " 4   psn              2656 non-null   int32         \n",
      " 5   transport_times  2656 non-null   int32         \n",
      " 6   station          2656 non-null   object        \n",
      " 7   addition_type    2656 non-null   object        \n",
      " 8   addition         2656 non-null   int32         \n",
      "dtypes: datetime64[ns](1), int32(5), object(3)\n",
      "memory usage: 135.0+ KB\n"
     ]
    }
   ],
   "source": [
    "df.info()"
   ]
  },
  {
   "cell_type": "code",
   "execution_count": 180,
   "metadata": {},
   "outputs": [
    {
     "data": {
      "text/html": [
       "<div>\n",
       "<style scoped>\n",
       "    .dataframe tbody tr th:only-of-type {\n",
       "        vertical-align: middle;\n",
       "    }\n",
       "\n",
       "    .dataframe tbody tr th {\n",
       "        vertical-align: top;\n",
       "    }\n",
       "\n",
       "    .dataframe thead th {\n",
       "        text-align: right;\n",
       "    }\n",
       "</style>\n",
       "<table border=\"1\" class=\"dataframe\">\n",
       "  <thead>\n",
       "    <tr style=\"text-align: right;\">\n",
       "      <th></th>\n",
       "      <th>update_date</th>\n",
       "      <th>ou</th>\n",
       "      <th>receive</th>\n",
       "      <th>send</th>\n",
       "      <th>psn</th>\n",
       "      <th>transport_times</th>\n",
       "      <th>station</th>\n",
       "      <th>addition_type</th>\n",
       "      <th>addition</th>\n",
       "    </tr>\n",
       "  </thead>\n",
       "  <tbody>\n",
       "    <tr>\n",
       "      <th>2640</th>\n",
       "      <td>2021-11-27</td>\n",
       "      <td>HONORDGHMS</td>\n",
       "      <td>2111.0</td>\n",
       "      <td>4245.0</td>\n",
       "      <td>7340.0</td>\n",
       "      <td>0.0</td>\n",
       "      <td>origin</td>\n",
       "      <td>None</td>\n",
       "      <td>0.0</td>\n",
       "    </tr>\n",
       "    <tr>\n",
       "      <th>2641</th>\n",
       "      <td>2021-11-27</td>\n",
       "      <td>HUAWEDGLSS</td>\n",
       "      <td>0.0</td>\n",
       "      <td>0.0</td>\n",
       "      <td>0.0</td>\n",
       "      <td>0.0</td>\n",
       "      <td>t_product</td>\n",
       "      <td>t_product_clean</td>\n",
       "      <td>0.0</td>\n",
       "    </tr>\n",
       "    <tr>\n",
       "      <th>2642</th>\n",
       "      <td>2021-11-27</td>\n",
       "      <td>HUAWEDGNHS</td>\n",
       "      <td>271.0</td>\n",
       "      <td>1740.0</td>\n",
       "      <td>4.0</td>\n",
       "      <td>0.0</td>\n",
       "      <td>nanhua</td>\n",
       "      <td>None</td>\n",
       "      <td>0.0</td>\n",
       "    </tr>\n",
       "    <tr>\n",
       "      <th>2643</th>\n",
       "      <td>2021-11-27</td>\n",
       "      <td>HUAWEDGTRD</td>\n",
       "      <td>0.0</td>\n",
       "      <td>0.0</td>\n",
       "      <td>0.0</td>\n",
       "      <td>1.0</td>\n",
       "      <td>guiyang</td>\n",
       "      <td>None</td>\n",
       "      <td>0.0</td>\n",
       "    </tr>\n",
       "    <tr>\n",
       "      <th>2644</th>\n",
       "      <td>2021-11-27</td>\n",
       "      <td>HUAWEDHW1S</td>\n",
       "      <td>37.0</td>\n",
       "      <td>30.0</td>\n",
       "      <td>3.0</td>\n",
       "      <td>0.0</td>\n",
       "      <td>r4_receive</td>\n",
       "      <td>None</td>\n",
       "      <td>0.0</td>\n",
       "    </tr>\n",
       "    <tr>\n",
       "      <th>2645</th>\n",
       "      <td>2021-11-27</td>\n",
       "      <td>HUAWEDHW4S</td>\n",
       "      <td>929.0</td>\n",
       "      <td>3004.0</td>\n",
       "      <td>11169.0</td>\n",
       "      <td>0.0</td>\n",
       "      <td>honor</td>\n",
       "      <td>None</td>\n",
       "      <td>0.0</td>\n",
       "    </tr>\n",
       "    <tr>\n",
       "      <th>2646</th>\n",
       "      <td>2021-11-27</td>\n",
       "      <td>HUAWEDHWTS</td>\n",
       "      <td>0.0</td>\n",
       "      <td>0.0</td>\n",
       "      <td>0.0</td>\n",
       "      <td>5.0</td>\n",
       "      <td>pearlriver</td>\n",
       "      <td>None</td>\n",
       "      <td>0.0</td>\n",
       "    </tr>\n",
       "    <tr>\n",
       "      <th>2647</th>\n",
       "      <td>2021-11-27</td>\n",
       "      <td>NEXPEDGIHS</td>\n",
       "      <td>50154.0</td>\n",
       "      <td>26431.0</td>\n",
       "      <td>0.0</td>\n",
       "      <td>0.0</td>\n",
       "      <td>anshi</td>\n",
       "      <td>anshi_case</td>\n",
       "      <td>2086.0</td>\n",
       "    </tr>\n",
       "  </tbody>\n",
       "</table>\n",
       "</div>"
      ],
      "text/plain": [
       "     update_date          ou  receive     send      psn  transport_times  \\\n",
       "2640  2021-11-27  HONORDGHMS   2111.0   4245.0   7340.0              0.0   \n",
       "2641  2021-11-27  HUAWEDGLSS      0.0      0.0      0.0              0.0   \n",
       "2642  2021-11-27  HUAWEDGNHS    271.0   1740.0      4.0              0.0   \n",
       "2643  2021-11-27  HUAWEDGTRD      0.0      0.0      0.0              1.0   \n",
       "2644  2021-11-27  HUAWEDHW1S     37.0     30.0      3.0              0.0   \n",
       "2645  2021-11-27  HUAWEDHW4S    929.0   3004.0  11169.0              0.0   \n",
       "2646  2021-11-27  HUAWEDHWTS      0.0      0.0      0.0              5.0   \n",
       "2647  2021-11-27  NEXPEDGIHS  50154.0  26431.0      0.0              0.0   \n",
       "\n",
       "         station    addition_type  addition  \n",
       "2640      origin             None       0.0  \n",
       "2641   t_product  t_product_clean       0.0  \n",
       "2642      nanhua             None       0.0  \n",
       "2643     guiyang             None       0.0  \n",
       "2644  r4_receive             None       0.0  \n",
       "2645       honor             None       0.0  \n",
       "2646  pearlriver             None       0.0  \n",
       "2647       anshi       anshi_case    2086.0  "
      ]
     },
     "execution_count": 180,
     "metadata": {},
     "output_type": "execute_result"
    }
   ],
   "source": [
    "df.query(\"update_date == '2021-11-27'\")"
   ]
  },
  {
   "cell_type": "code",
   "execution_count": null,
   "metadata": {},
   "outputs": [],
   "source": [
    "list(pd.Series(huawei_output.columns).str.extract(\"(\" + 'pearl' + \"[a-z]+)\").dropna()[0])[0]"
   ]
  },
  {
   "cell_type": "code",
   "execution_count": 146,
   "metadata": {},
   "outputs": [
    {
     "name": "stdout",
     "output_type": "stream",
     "text": [
      "duplicates check Empty DataFrame\n",
      "Columns: [update_date, ou, receive, send, psn, transport_times, station, addition_type, addition]\n",
      "Index: []\n"
     ]
    }
   ],
   "source": [
    "print('duplicates check',df[df[['update_date', 'ou']].duplicated()].sort_values(['update_date', 'ou']))"
   ]
  }
 ],
 "metadata": {
  "interpreter": {
   "hash": "47b50d2908d96196e4220cfb4e81faa93803065ea975497e7026f672c1f58470"
  },
  "kernelspec": {
   "display_name": "Python 3.8.8 64-bit ('siming': conda)",
   "language": "python",
   "name": "python3"
  },
  "language_info": {
   "codemirror_mode": {
    "name": "ipython",
    "version": 3
   },
   "file_extension": ".py",
   "mimetype": "text/x-python",
   "name": "python",
   "nbconvert_exporter": "python",
   "pygments_lexer": "ipython3",
   "version": "3.8.8"
  },
  "orig_nbformat": 4
 },
 "nbformat": 4,
 "nbformat_minor": 2
}
