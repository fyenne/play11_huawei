{
 "cells": [
  {
   "cell_type": "code",
   "execution_count": 4,
   "metadata": {},
   "outputs": [
    {
     "data": {
      "text/plain": [
       "['gar.xlsx',\n",
       " 'huawei_daily.csv',\n",
       " 'Outsourcing_Name_List_20220119104910.csv',\n",
       " 'Outsourcing_Name_List_20220119104910.xlsx',\n",
       " '业务量与部门关系表_20220119104837.csv',\n",
       " '业务量与部门关系表_20220119104837.xlsx',\n",
       " '入湖数据关系.csv',\n",
       " '入湖数据关系.xlsx']"
      ]
     },
     "execution_count": 4,
     "metadata": {},
     "output_type": "execute_result"
    }
   ],
   "source": [
    "import os\n",
    "from fyenn_class import  pd_loaddata, pd, np \n",
    "from datetime import datetime, timedelta\n",
    "\n",
    "path = '../data_down/'\n",
    "os.listdir(path)"
   ]
  },
  {
   "cell_type": "code",
   "execution_count": 15,
   "metadata": {},
   "outputs": [],
   "source": [
    "# '{note:=>50}'.format(note='Lorem') + '{note:=>50}'.format(note='')\n",
    "# huawei_output = huawei_output[huawei_output['rn'].astype(int) == 1]\n",
    "\n",
    "# rel \n",
    "huawei_output = pd_loaddata.pd_csv(path + 'huawei_daily.csv')\n",
    "huawei_output = pd_loaddata.bdp_col(huawei_output)\n"
   ]
  },
  {
   "cell_type": "code",
   "execution_count": 16,
   "metadata": {},
   "outputs": [],
   "source": [
    "col = 'update_date'\n",
    "huawei_output[col] = huawei_output[col].astype(str).str.slice(0,10)\n",
    "huawei_output = pd.concat([huawei_output.reset_index(), pd.DataFrame(list(huawei_output[col].str.split('-')))], axis =1)"
   ]
  },
  {
   "cell_type": "code",
   "execution_count": 56,
   "metadata": {},
   "outputs": [
    {
     "name": "stdout",
     "output_type": "stream",
     "text": [
      "~~~~~~~~~~~~~~update_date\n",
      "~~~~~~~~~~~~~~update_date\n"
     ]
    },
    {
     "data": {
      "text/plain": [
       "[None, None]"
      ]
     },
     "execution_count": 56,
     "metadata": {},
     "output_type": "execute_result"
    }
   ],
   "source": [
    "def printer(*args):\n",
    "    [print( '{note:~>25}'.format(note = i)) for i in args]\n",
    "\n",
    "printer(col, col)"
   ]
  },
  {
   "cell_type": "code",
   "execution_count": 19,
   "metadata": {},
   "outputs": [
    {
     "name": "stdout",
     "output_type": "stream",
     "text": [
      "Wall time: 553 ms\n"
     ]
    },
    {
     "name": "stderr",
     "output_type": "stream",
     "text": [
      "<timed exec>:34: UserWarning: This pattern has match groups. To actually get the groups, use str.extract.\n"
     ]
    }
   ],
   "source": [
    "%%time\n",
    "# huawei_output = pd_loaddata.pd_csv(path + 'huawei_output.csv')\n",
    "# huawei_output = huawei_output[huawei_output['rn'].astype(int) == 1]\n",
    "\n",
    "# huawei_daily = pd_loaddata.pd_csv(path + 'huawei_daily.csv')\n",
    "# rel = pd_loaddata.pd_excel(path + '入湖数据关系', 0)\n",
    "# huawei_output.shape\n",
    "# pd_loaddata.pd_show(15, None)\n",
    "# rel = rel.drop(['部门', '站点'],axis = 1).drop_duplicates();rel\n",
    "\n",
    "\n",
    "def datetime_(coach, col):\n",
    "        \"\"\"\n",
    "        detail time to date; \n",
    "        split and assign to 3 cols of year m d\n",
    "        \"\"\"\n",
    "        coach[col] = coach[col].astype(str).str.slice(0,10)\n",
    "        # 20220110\n",
    "        coach = pd.concat([coach.reset_index(drop = True), pd.DataFrame(list(coach[col].str.split('-')))], axis =1) \n",
    "        coach = coach[coach[[0,1,2]].fillna(0).astype(int).sum(axis = 1) != 0] # 年月日三列\n",
    "        coach = coach.rename({0:'year', 1:'month', 2: 'date'}, axis=1)\n",
    "        return coach\n",
    "\n",
    "huawei_output = datetime_(\n",
    "    coach=huawei_output, col='update_date'\n",
    "    ).drop(['create_time', 'update_time'], axis = 1).drop_duplicates().sort_values('update_date')\n",
    " \n",
    "def search_col(df, str):\n",
    "    \"\"\"\n",
    "    列名正则搜索.\n",
    "    \"\"\"\n",
    "    return list(pd.Series(df.columns)[pd.Series(df.columns).str.match(str)])\n",
    "# 识别异常列名\n",
    "tran_col = list(pd.Series(huawei_output.columns)[\n",
    "    pd.Series(huawei_output.columns).str.contains(\n",
    "        '(receive|psn|send|transport_times|update_date|year|month|date|id)'\n",
    "        ) == False\n",
    "        ])\n",
    "# clean , case, withdraw)"
   ]
  },
  {
   "cell_type": "code",
   "execution_count": 20,
   "metadata": {},
   "outputs": [
    {
     "data": {
      "text/plain": [
       "Series([], dtype: object)"
      ]
     },
     "execution_count": 20,
     "metadata": {},
     "output_type": "execute_result"
    }
   ],
   "source": [
    "pd.Series(huawei_output.columns)[pd.Series(huawei_output.columns).str.contains('t4\\_')]"
   ]
  },
  {
   "cell_type": "code",
   "execution_count": 27,
   "metadata": {},
   "outputs": [],
   "source": [
    "# unfigured problems:::::\n",
    "\n",
    "huawei_output = huawei_output.iloc[:, :-3]"
   ]
  },
  {
   "cell_type": "code",
   "execution_count": 28,
   "metadata": {},
   "outputs": [],
   "source": [
    "huawei_output['te_origin_receive'] = huawei_output['te_origin_receive'] + huawei_output['te_product_receive'] \n",
    "huawei_output['te_origin_send'] = huawei_output['te_origin_send'] + huawei_output['te_product_send'] \n",
    "huawei_output = huawei_output.drop(['te_product_send', 'te_product_receive'], axis = 1)"
   ]
  },
  {
   "cell_type": "code",
   "execution_count": 29,
   "metadata": {},
   "outputs": [
    {
     "data": {
      "text/plain": [
       "{'origi': 'HUAWEDHW4S',\n",
       " 'hon': 'HONORDGHMS',\n",
       " 'pearl': 'HUAWEDHWTS',\n",
       " 'guiy': 'HUAWEDGTRD',\n",
       " '^t\\\\_': 'HUAWEDGLSS',\n",
       " 'r4\\\\_': 'HUAWEDHW1S',\n",
       " 'nanh': 'HUAWEDGNHS',\n",
       " 'ansh': 'NEXPEDGWHS',\n",
       " 'te\\\\_': 'TYCOTSDXXS',\n",
       " 'pingsha': 'HONORSZIHS'}"
      ]
     },
     "execution_count": 29,
     "metadata": {},
     "output_type": "execute_result"
    }
   ],
   "source": [
    "\n",
    "\"\"\"\n",
    "ou 和正则匹配\n",
    "\"\"\"\n",
    "relist = [\n",
    "        'origi', \n",
    "        'hon',  # 20220119 to hongmei\n",
    "        'pearl', \n",
    "        'guiy', \n",
    "        '^t\\_', \n",
    "        'r4\\_', \n",
    "        'nanh', \n",
    "        'ansh', \n",
    "        'te\\_',\n",
    "        'pingsha' # 20220119 add\n",
    "      \n",
    "    ]\n",
    "\n",
    "oulist = [\n",
    "        'HUAWEDHW4S',\n",
    "        'HONORDGHMS',\n",
    "        'HUAWEDHWTS',\n",
    "        'HUAWEDGTRD',\n",
    "        'HUAWEDGLSS',\n",
    "        'HUAWEDHW1S',\n",
    "        'HUAWEDGNHS',\n",
    "        'NEXPEDGWHS',\n",
    "        'TYCOTSDXXS',\n",
    "        'HONORSZIHS'  # 20220119 add\n",
    "    ]\n",
    "try:\n",
    "    del dict \n",
    "except:\n",
    "    pass\n",
    "dict = dict(zip(relist, oulist))\n",
    "# re = 'pear'\n",
    "# pd.Series(huawei_output.columns).str.extract(\"(\" + re + \"[a-z]+)\").dropna()\n",
    "dict"
   ]
  },
  {
   "cell_type": "code",
   "execution_count": 30,
   "metadata": {},
   "outputs": [
    {
     "data": {
      "text/plain": [
       "Index(['update_date', 'origin_receive', 'origin_send', 'origin_psn',\n",
       "       'hongmei_receive', 'pingshan_receive', 'hongmei_send', 'pingshan_send',\n",
       "       'hongmei_psn', 'pearlriver_transport_times', 'guiyang_transport_times',\n",
       "       't_product_receive', 't_product_clean', 't_product_send', 'r4_receive',\n",
       "       'r4_send', 'r4_psn', 'nanhua_receive', 'nanhua_send', 'nanhua_psn',\n",
       "       'anshi_receive', 'anshi_send', 'anshi_case', 'te_origin_receive',\n",
       "       'te_origin_send', 'pre_receive', 'pre_withdraw',\n",
       "       'honor_transport_times', 'inc_day', 'year', 'month', 'date'],\n",
       "      dtype='object')"
      ]
     },
     "execution_count": 30,
     "metadata": {},
     "output_type": "execute_result"
    }
   ],
   "source": [
    "huawei_output = huawei_output.drop('index', axis = 1)\n",
    "huawei_output.columns"
   ]
  },
  {
   "cell_type": "code",
   "execution_count": null,
   "metadata": {},
   "outputs": [],
   "source": [
    "pd.concat([huawei_output[search_col(huawei_output, 'hon')] ,\n",
    " huawei_output[['update_date', 'year', 'month', 'date']]], axis = 1)"
   ]
  },
  {
   "cell_type": "code",
   "execution_count": 31,
   "metadata": {},
   "outputs": [
    {
     "name": "stdout",
     "output_type": "stream",
     "text": [
      "origi HUAWEDHW4S\n",
      "Index(['receive', 'send', 'psn', 'update_date', 'year', 'month', 'date'], dtype='object') \n",
      "        receive  send  psn update_date  year month date\n",
      "14505      0.0   0.0  NaN  2020-12-31  2020    12   31\n",
      "2345       0.0   0.0  NaN  2020-12-31  2020    12   31\n",
      "22016      0.0   0.0  NaN  2020-12-31  2020    12   31\n",
      "6692       0.0   0.0  NaN  2020-12-31  2020    12   31\n",
      "10182      0.0   0.0  NaN  2020-12-31  2020    12   31\n",
      "hon HONORDGHMS\n",
      "Index(['receive', 'send', 'psn', 'transport_times', 'update_date', 'year',\n",
      "       'month', 'date'],\n",
      "      dtype='object') \n",
      "        receive  send  psn  transport_times update_date  year month date\n",
      "14505      0.0   0.0  NaN              NaN  2020-12-31  2020    12   31\n",
      "2345       0.0   0.0  NaN              NaN  2020-12-31  2020    12   31\n",
      "22016      0.0   0.0  NaN              NaN  2020-12-31  2020    12   31\n",
      "6692       0.0   0.0  NaN              NaN  2020-12-31  2020    12   31\n",
      "10182      0.0   0.0  NaN              NaN  2020-12-31  2020    12   31\n",
      "pearl HUAWEDHWTS\n",
      "Index(['transport_times', 'update_date', 'year', 'month', 'date'], dtype='object') \n",
      "        transport_times update_date  year month date\n",
      "14505              0.0  2020-12-31  2020    12   31\n",
      "2345               0.0  2020-12-31  2020    12   31\n",
      "22016              0.0  2020-12-31  2020    12   31\n",
      "6692               0.0  2020-12-31  2020    12   31\n",
      "10182              0.0  2020-12-31  2020    12   31\n",
      "guiy HUAWEDGTRD\n",
      "Index(['transport_times', 'update_date', 'year', 'month', 'date'], dtype='object') \n",
      "        transport_times update_date  year month date\n",
      "14505              0.0  2020-12-31  2020    12   31\n",
      "2345               0.0  2020-12-31  2020    12   31\n",
      "22016              0.0  2020-12-31  2020    12   31\n",
      "6692               0.0  2020-12-31  2020    12   31\n",
      "10182              0.0  2020-12-31  2020    12   31\n",
      "^t\\_ HUAWEDGLSS\n",
      "Index(['receive', nan, 'send', 'update_date', 'year', 'month', 'date'], dtype='object') \n",
      "        receive  NaN  send update_date  year month date\n",
      "14505      0.0  NaN   0.0  2020-12-31  2020    12   31\n",
      "2345       0.0  NaN   0.0  2020-12-31  2020    12   31\n",
      "22016      0.0  NaN   0.0  2020-12-31  2020    12   31\n",
      "6692       0.0  NaN   0.0  2020-12-31  2020    12   31\n",
      "10182      0.0  NaN   0.0  2020-12-31  2020    12   31\n",
      "r4\\_ HUAWEDHW1S\n",
      "Index(['receive', 'send', 'psn', 'update_date', 'year', 'month', 'date'], dtype='object') \n",
      "        receive  send  psn update_date  year month date\n",
      "14505      0.0   0.0  0.0  2020-12-31  2020    12   31\n",
      "2345       0.0   0.0  0.0  2020-12-31  2020    12   31\n",
      "22016      0.0   0.0  0.0  2020-12-31  2020    12   31\n",
      "6692       0.0   0.0  0.0  2020-12-31  2020    12   31\n",
      "10182      0.0   0.0  0.0  2020-12-31  2020    12   31\n",
      "nanh HUAWEDGNHS\n",
      "Index(['receive', 'send', 'psn', 'update_date', 'year', 'month', 'date'], dtype='object') \n",
      "        receive  send  psn update_date  year month date\n",
      "14505      0.0   0.0  0.0  2020-12-31  2020    12   31\n",
      "2345       0.0   0.0  0.0  2020-12-31  2020    12   31\n",
      "22016      0.0   0.0  0.0  2020-12-31  2020    12   31\n",
      "6692       0.0   0.0  0.0  2020-12-31  2020    12   31\n",
      "10182      0.0   0.0  0.0  2020-12-31  2020    12   31\n",
      "ansh NEXPEDGWHS\n",
      "Index(['receive', 'send', nan, 'update_date', 'year', 'month', 'date'], dtype='object') \n",
      "        receive     send  NaN update_date  year month date\n",
      "14505      NaN  64118.0  0.0  2020-12-31  2020    12   31\n",
      "2345       NaN  64118.0  0.0  2020-12-31  2020    12   31\n",
      "22016      NaN  64118.0  0.0  2020-12-31  2020    12   31\n",
      "6692       NaN  64118.0  0.0  2020-12-31  2020    12   31\n",
      "10182      NaN  64118.0  0.0  2020-12-31  2020    12   31\n",
      "te\\_ TYCOTSDXXS\n",
      "Index(['receive', 'send', 'update_date', 'year', 'month', 'date'], dtype='object') \n",
      "        receive  send update_date  year month date\n",
      "14505      0.0   0.0  2020-12-31  2020    12   31\n",
      "2345       0.0   0.0  2020-12-31  2020    12   31\n",
      "22016      0.0   0.0  2020-12-31  2020    12   31\n",
      "6692       0.0   0.0  2020-12-31  2020    12   31\n",
      "10182      0.0   0.0  2020-12-31  2020    12   31\n",
      "pingsha HONORSZIHS\n",
      "Index(['receive', 'send', 'update_date', 'year', 'month', 'date'], dtype='object') \n",
      "        receive  send update_date  year month date\n",
      "14505      NaN   NaN  2020-12-31  2020    12   31\n",
      "2345       NaN   NaN  2020-12-31  2020    12   31\n",
      "22016      NaN   NaN  2020-12-31  2020    12   31\n",
      "6692       NaN   NaN  2020-12-31  2020    12   31\n",
      "10182      NaN   NaN  2020-12-31  2020    12   31\n"
     ]
    }
   ],
   "source": [
    "def concat_(re, ou):\n",
    "    huawei_output[search_col(huawei_output, re)].shape\n",
    "    # n = 4 - huawei_output[search_col(huawei_output, re)].shape[1]\n",
    "    # m = huawei_output[search_col(huawei_output, re)].shape[0]\n",
    "    # print(m, n)\n",
    "    data = pd.concat(\n",
    "        [\n",
    "            huawei_output[search_col(huawei_output, re)], \n",
    "            # pd.DataFrame(np.zeros(shape=(m, n), dtype=int)),\n",
    "            huawei_output[['update_date', 'year', 'month', 'date']]\n",
    "        ]\n",
    "        , axis = 1).sort_values('update_date')\n",
    "    # print(data.shape)\n",
    "    data.columns = list(pd.Series(data.columns).str.extract(\n",
    "        '(receive|psn|send|transport_times|update_date|year|month|date)'\n",
    "        )[0])\n",
    "    try:\n",
    "        print(data.columns, '\\n', data.head(2))\n",
    "        data = data.rename({np.nan:'addition'}, axis = 1)\n",
    "    except:\n",
    "        pass\n",
    "    data['ou'] = ou\n",
    "    data['station'] = pd.Series(huawei_output.columns).str.extract(\"(\" + re + \"[a-z]+)\").dropna().iloc[0,0]\n",
    "    data['addition_type'] = pd.Series(tran_col).str.extract(\"(\" + re + \".+)\").fillna('z').sort_values(0).iloc[0,0]\n",
    "     \n",
    "    return data.reset_index(drop=True)\n",
    "\n",
    "df = pd.DataFrame()\n",
    "for re in dict:\n",
    "    print(re, dict[re])\n",
    "    df = pd.concat([df, concat_(re, dict[re])], axis = 0)\n"
   ]
  },
  {
   "cell_type": "code",
   "execution_count": 32,
   "metadata": {},
   "outputs": [
    {
     "data": {
      "text/plain": [
       "'anshi_case'"
      ]
     },
     "execution_count": 32,
     "metadata": {},
     "output_type": "execute_result"
    }
   ],
   "source": [
    "pd.Series(tran_col).str.extract(\"(\" + 'pear' + \".+)\").fillna('zull')\n",
    "# pd.Series(huawei_output.columns).str.extract(\"(\" + 't_' + \".+)\").dropna().iloc[0,0]\n",
    "pd.Series(tran_col).str.extract(\"(\" + 'anshi' + \".+)\").fillna('z').sort_values(0).iloc[0,0]"
   ]
  },
  {
   "cell_type": "code",
   "execution_count": 33,
   "metadata": {},
   "outputs": [
    {
     "name": "stderr",
     "output_type": "stream",
     "text": [
      "C:\\Users\\DSCSHA~1\\AppData\\Local\\Temp/ipykernel_22920/680750927.py:18: FutureWarning: The default value of regex will change from True to False in a future version.\n",
      "  df['addition_type'] = df['addition_type'].str.replace('^z', 'None')\n"
     ]
    }
   ],
   "source": [
    "def cleanm(df):\n",
    "    \"\"\"\n",
    "    清楚每日填报重复, 时间日期drop, update_date 日期加一以匹配前端.\n",
    "    \"\"\"\n",
    "    df = df.fillna(0).drop_duplicates()\n",
    "    df['flag_sum'] = df[['receive', 'send', 'psn']].sum(axis =1)\n",
    "    df = df.sort_values(['update_date', 'ou', 'flag_sum'], ascending=False).groupby(\n",
    "        [\n",
    "            'update_date', 'ou'\n",
    "        ]\n",
    "        ).first().reset_index()\n",
    "    try:\n",
    "        df = df.drop(['year', 'month', 'date', 'flag_sum'], axis = 1)\n",
    "    except:\n",
    "        pass\n",
    "\n",
    "    df['update_date'] = pd.to_datetime(df['update_date']) + timedelta(days = 1)\n",
    "    df['addition_type'] = df['addition_type'].str.replace('^z', 'None')\n",
    "    return df\n",
    "\n",
    "df = cleanm(df)"
   ]
  },
  {
   "cell_type": "code",
   "execution_count": null,
   "metadata": {},
   "outputs": [],
   "source": [
    "df[['receive', 'send', 'psn', 'transport_times', 'addition']] = df[\n",
    "        ['receive', 'send', 'psn', 'transport_times', 'addition']\n",
    "        ].astype(int)"
   ]
  },
  {
   "cell_type": "code",
   "execution_count": null,
   "metadata": {},
   "outputs": [],
   "source": [
    "df.info()"
   ]
  },
  {
   "cell_type": "code",
   "execution_count": null,
   "metadata": {},
   "outputs": [],
   "source": [
    "df.query(\"update_date == '2021-11-27'\")"
   ]
  },
  {
   "cell_type": "code",
   "execution_count": null,
   "metadata": {},
   "outputs": [],
   "source": [
    "list(pd.Series(huawei_output.columns).str.extract(\"(\" + 'pearl' + \"[a-z]+)\").dropna()[0])[0]"
   ]
  },
  {
   "cell_type": "code",
   "execution_count": null,
   "metadata": {},
   "outputs": [],
   "source": [
    "print('duplicates check',df[df[['update_date', 'ou']].duplicated()].sort_values(['update_date', 'ou']))"
   ]
  }
 ],
 "metadata": {
  "interpreter": {
   "hash": "47b50d2908d96196e4220cfb4e81faa93803065ea975497e7026f672c1f58470"
  },
  "kernelspec": {
   "display_name": "Python 3.8.8 64-bit ('siming': conda)",
   "language": "python",
   "name": "python3"
  },
  "language_info": {
   "codemirror_mode": {
    "name": "ipython",
    "version": 3
   },
   "file_extension": ".py",
   "mimetype": "text/x-python",
   "name": "python",
   "nbconvert_exporter": "python",
   "pygments_lexer": "ipython3",
   "version": "3.8.8"
  },
  "orig_nbformat": 4
 },
 "nbformat": 4,
 "nbformat_minor": 2
}
