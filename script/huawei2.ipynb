{
 "cells": [
  {
   "cell_type": "code",
   "execution_count": 1,
   "metadata": {},
   "outputs": [
    {
     "data": {
      "text/plain": [
       "['gar.xlsx',\n",
       " 'huaweiout.csv',\n",
       " 'huawei_daily.csv',\n",
       " 'Outsourcing_Name_List_20220119104910.csv',\n",
       " 'Outsourcing_Name_List_20220119104910.xlsx',\n",
       " '业务量与部门关系表_20220119104837.csv',\n",
       " '业务量与部门关系表_20220119104837.xlsx',\n",
       " '入湖数据关系.csv',\n",
       " '入湖数据关系.xlsx']"
      ]
     },
     "execution_count": 1,
     "metadata": {},
     "output_type": "execute_result"
    }
   ],
   "source": [
    "from fyenn_class import  pd_loaddata, pd, np \n",
    "from datetime import datetime, timedelta\n",
    "\n",
    "path = '../data_down/'\n",
    "os.listdir(path)\n"
   ]
  },
  {
   "cell_type": "code",
   "execution_count": 2,
   "metadata": {},
   "outputs": [
    {
     "name": "stdout",
     "output_type": "stream",
     "text": [
      "csv_read\n",
      "csv_read\n"
     ]
    }
   ],
   "source": [
    "rel = pd_loaddata.pd_excel(path + '业务量与部门关系表_20220119104837', 0)\n",
    "ls = pd_loaddata.pd_excel(path + 'Outsourcing_Name_List_20220119104910', 0)\n",
    "ls = ls.drop(['员工类别', '更新时间'], axis = 1)"
   ]
  },
  {
   "cell_type": "code",
   "execution_count": 10,
   "metadata": {},
   "outputs": [
    {
     "data": {
      "text/plain": [
       "'20220119'"
      ]
     },
     "execution_count": 10,
     "metadata": {},
     "output_type": "execute_result"
    }
   ],
   "source": [
    "(datetime.now() + timedelta(days=-1)).strftime('%Y%m%d')"
   ]
  },
  {
   "cell_type": "code",
   "execution_count": 17,
   "metadata": {},
   "outputs": [],
   "source": [
    "df = ls.merge(rel, on = ['站点', '部门'], how = 'outer')\n"
   ]
  },
  {
   "cell_type": "code",
   "execution_count": 27,
   "metadata": {},
   "outputs": [
    {
     "data": {
      "text/html": [
       "<div>\n",
       "<style scoped>\n",
       "    .dataframe tbody tr th:only-of-type {\n",
       "        vertical-align: middle;\n",
       "    }\n",
       "\n",
       "    .dataframe tbody tr th {\n",
       "        vertical-align: top;\n",
       "    }\n",
       "\n",
       "    .dataframe thead th {\n",
       "        text-align: right;\n",
       "    }\n",
       "</style>\n",
       "<table border=\"1\" class=\"dataframe\">\n",
       "  <thead>\n",
       "    <tr style=\"text-align: right;\">\n",
       "      <th></th>\n",
       "      <th>工号</th>\n",
       "      <th>姓名</th>\n",
       "      <th>岗位</th>\n",
       "      <th>站点</th>\n",
       "      <th>成本中心</th>\n",
       "      <th>部门</th>\n",
       "      <th>对应现有看板指标</th>\n",
       "      <th>效率指标名称</th>\n",
       "      <th>OU（成本中心）</th>\n",
       "    </tr>\n",
       "  </thead>\n",
       "  <tbody>\n",
       "    <tr>\n",
       "      <th>3418</th>\n",
       "      <td>NaN</td>\n",
       "      <td>NaN</td>\n",
       "      <td>NaN</td>\n",
       "      <td>坪山</td>\n",
       "      <td>NaN</td>\n",
       "      <td>关务</td>\n",
       "      <td>按条发货-坪山</td>\n",
       "      <td>发货人效——坪山</td>\n",
       "      <td>HONORSZIHS</td>\n",
       "    </tr>\n",
       "    <tr>\n",
       "      <th>3419</th>\n",
       "      <td>NaN</td>\n",
       "      <td>NaN</td>\n",
       "      <td>NaN</td>\n",
       "      <td>坪山</td>\n",
       "      <td>NaN</td>\n",
       "      <td>OE</td>\n",
       "      <td>按条发货-坪山</td>\n",
       "      <td>发货人效——坪山</td>\n",
       "      <td>HONORSZIHS</td>\n",
       "    </tr>\n",
       "    <tr>\n",
       "      <th>3420</th>\n",
       "      <td>NaN</td>\n",
       "      <td>NaN</td>\n",
       "      <td>NaN</td>\n",
       "      <td>嘉达贵安仓配</td>\n",
       "      <td>NaN</td>\n",
       "      <td>贵安仓配3#点料室</td>\n",
       "      <td>贵阳仓配趟数</td>\n",
       "      <td>贵阳仓配人效</td>\n",
       "      <td>HUAWEDGTRD</td>\n",
       "    </tr>\n",
       "    <tr>\n",
       "      <th>3421</th>\n",
       "      <td>NaN</td>\n",
       "      <td>NaN</td>\n",
       "      <td>NaN</td>\n",
       "      <td>C9原材料</td>\n",
       "      <td>NaN</td>\n",
       "      <td>终端交付</td>\n",
       "      <td>按条发货-原材料</td>\n",
       "      <td>发货人效——华为终端</td>\n",
       "      <td>HUAWEDHW4S</td>\n",
       "    </tr>\n",
       "    <tr>\n",
       "      <th>3422</th>\n",
       "      <td>NaN</td>\n",
       "      <td>NaN</td>\n",
       "      <td>NaN</td>\n",
       "      <td>嘉达</td>\n",
       "      <td>NaN</td>\n",
       "      <td>内控</td>\n",
       "      <td>按条发货-原材料</td>\n",
       "      <td>发货人效——华为终端</td>\n",
       "      <td>HUAWEDHW4S</td>\n",
       "    </tr>\n",
       "  </tbody>\n",
       "</table>\n",
       "</div>"
      ],
      "text/plain": [
       "       工号   姓名   岗位      站点 成本中心         部门  对应现有看板指标      效率指标名称    OU（成本中心）\n",
       "3418  NaN  NaN  NaN      坪山  NaN         关务   按条发货-坪山    发货人效——坪山  HONORSZIHS\n",
       "3419  NaN  NaN  NaN      坪山  NaN         OE   按条发货-坪山    发货人效——坪山  HONORSZIHS\n",
       "3420  NaN  NaN  NaN  嘉达贵安仓配  NaN  贵安仓配3#点料室    贵阳仓配趟数      贵阳仓配人效  HUAWEDGTRD\n",
       "3421  NaN  NaN  NaN   C9原材料  NaN       终端交付  按条发货-原材料  发货人效——华为终端  HUAWEDHW4S\n",
       "3422  NaN  NaN  NaN      嘉达  NaN         内控  按条发货-原材料  发货人效——华为终端  HUAWEDHW4S"
      ]
     },
     "execution_count": 27,
     "metadata": {},
     "output_type": "execute_result"
    }
   ],
   "source": [
    "# df = df[~df['姓名'].isna()]\n",
    "nass = df[df['姓名'].isna()];nass"
   ]
  },
  {
   "cell_type": "code",
   "execution_count": 43,
   "metadata": {},
   "outputs": [
    {
     "data": {
      "text/html": [
       "<div>\n",
       "<style scoped>\n",
       "    .dataframe tbody tr th:only-of-type {\n",
       "        vertical-align: middle;\n",
       "    }\n",
       "\n",
       "    .dataframe tbody tr th {\n",
       "        vertical-align: top;\n",
       "    }\n",
       "\n",
       "    .dataframe thead th {\n",
       "        text-align: right;\n",
       "    }\n",
       "</style>\n",
       "<table border=\"1\" class=\"dataframe\">\n",
       "  <thead>\n",
       "    <tr style=\"text-align: right;\">\n",
       "      <th></th>\n",
       "      <th>工号</th>\n",
       "      <th>姓名</th>\n",
       "      <th>岗位</th>\n",
       "      <th>站点</th>\n",
       "      <th>成本中心</th>\n",
       "      <th>部门</th>\n",
       "      <th>对应现有看板指标</th>\n",
       "      <th>效率指标名称</th>\n",
       "      <th>OU（成本中心）</th>\n",
       "    </tr>\n",
       "  </thead>\n",
       "  <tbody>\n",
       "    <tr>\n",
       "      <th>0</th>\n",
       "      <td>GB6635</td>\n",
       "      <td>王曼</td>\n",
       "      <td>NaN</td>\n",
       "      <td>安世成品</td>\n",
       "      <td>NEXPEDGWHS</td>\n",
       "      <td>发货组</td>\n",
       "      <td>安世 FG发货PQ</td>\n",
       "      <td>安世成品发货人效</td>\n",
       "      <td>NEXPEDGWHS</td>\n",
       "    </tr>\n",
       "    <tr>\n",
       "      <th>1</th>\n",
       "      <td>GB6235</td>\n",
       "      <td>彭礼强</td>\n",
       "      <td>初级仓管员</td>\n",
       "      <td>安世成品</td>\n",
       "      <td>NEXPEDGWHS</td>\n",
       "      <td>发货组</td>\n",
       "      <td>安世 FG发货PQ</td>\n",
       "      <td>安世成品发货人效</td>\n",
       "      <td>NEXPEDGWHS</td>\n",
       "    </tr>\n",
       "    <tr>\n",
       "      <th>2</th>\n",
       "      <td>GB6138</td>\n",
       "      <td>杨健</td>\n",
       "      <td>初级仓管员</td>\n",
       "      <td>安世成品</td>\n",
       "      <td>NEXPEDGWHS</td>\n",
       "      <td>发货组</td>\n",
       "      <td>安世 FG发货PQ</td>\n",
       "      <td>安世成品发货人效</td>\n",
       "      <td>NEXPEDGWHS</td>\n",
       "    </tr>\n",
       "    <tr>\n",
       "      <th>3</th>\n",
       "      <td>GB6100</td>\n",
       "      <td>王茜</td>\n",
       "      <td>高级仓管员</td>\n",
       "      <td>安世成品</td>\n",
       "      <td>NEXPEDGWHS</td>\n",
       "      <td>发货组</td>\n",
       "      <td>安世 FG发货PQ</td>\n",
       "      <td>安世成品发货人效</td>\n",
       "      <td>NEXPEDGWHS</td>\n",
       "    </tr>\n",
       "    <tr>\n",
       "      <th>4</th>\n",
       "      <td>GB5954</td>\n",
       "      <td>王书祥</td>\n",
       "      <td>营运管理助理</td>\n",
       "      <td>安世成品</td>\n",
       "      <td>NEXPEDGWHS</td>\n",
       "      <td>发货组</td>\n",
       "      <td>安世 FG发货PQ</td>\n",
       "      <td>安世成品发货人效</td>\n",
       "      <td>NEXPEDGWHS</td>\n",
       "    </tr>\n",
       "    <tr>\n",
       "      <th>...</th>\n",
       "      <td>...</td>\n",
       "      <td>...</td>\n",
       "      <td>...</td>\n",
       "      <td>...</td>\n",
       "      <td>...</td>\n",
       "      <td>...</td>\n",
       "      <td>...</td>\n",
       "      <td>...</td>\n",
       "      <td>...</td>\n",
       "    </tr>\n",
       "    <tr>\n",
       "      <th>3418</th>\n",
       "      <td>NaN</td>\n",
       "      <td>NaN</td>\n",
       "      <td>NaN</td>\n",
       "      <td>坪山</td>\n",
       "      <td>NaN</td>\n",
       "      <td>关务</td>\n",
       "      <td>按条发货-坪山</td>\n",
       "      <td>发货人效——坪山</td>\n",
       "      <td>HONORSZIHS</td>\n",
       "    </tr>\n",
       "    <tr>\n",
       "      <th>3419</th>\n",
       "      <td>NaN</td>\n",
       "      <td>NaN</td>\n",
       "      <td>NaN</td>\n",
       "      <td>坪山</td>\n",
       "      <td>NaN</td>\n",
       "      <td>OE</td>\n",
       "      <td>按条发货-坪山</td>\n",
       "      <td>发货人效——坪山</td>\n",
       "      <td>HONORSZIHS</td>\n",
       "    </tr>\n",
       "    <tr>\n",
       "      <th>3420</th>\n",
       "      <td>NaN</td>\n",
       "      <td>NaN</td>\n",
       "      <td>NaN</td>\n",
       "      <td>嘉达贵安仓配</td>\n",
       "      <td>NaN</td>\n",
       "      <td>贵安仓配3#点料室</td>\n",
       "      <td>贵阳仓配趟数</td>\n",
       "      <td>贵阳仓配人效</td>\n",
       "      <td>HUAWEDGTRD</td>\n",
       "    </tr>\n",
       "    <tr>\n",
       "      <th>3421</th>\n",
       "      <td>NaN</td>\n",
       "      <td>NaN</td>\n",
       "      <td>NaN</td>\n",
       "      <td>C9原材料</td>\n",
       "      <td>NaN</td>\n",
       "      <td>终端交付</td>\n",
       "      <td>按条发货-原材料</td>\n",
       "      <td>发货人效——华为终端</td>\n",
       "      <td>HUAWEDHW4S</td>\n",
       "    </tr>\n",
       "    <tr>\n",
       "      <th>3422</th>\n",
       "      <td>NaN</td>\n",
       "      <td>NaN</td>\n",
       "      <td>NaN</td>\n",
       "      <td>嘉达</td>\n",
       "      <td>NaN</td>\n",
       "      <td>内控</td>\n",
       "      <td>按条发货-原材料</td>\n",
       "      <td>发货人效——华为终端</td>\n",
       "      <td>HUAWEDHW4S</td>\n",
       "    </tr>\n",
       "  </tbody>\n",
       "</table>\n",
       "<p>3423 rows × 9 columns</p>\n",
       "</div>"
      ],
      "text/plain": [
       "          工号   姓名      岗位      站点        成本中心         部门   对应现有看板指标  \\\n",
       "0     GB6635   王曼     NaN    安世成品  NEXPEDGWHS        发货组  安世 FG发货PQ   \n",
       "1     GB6235  彭礼强   初级仓管员    安世成品  NEXPEDGWHS        发货组  安世 FG发货PQ   \n",
       "2     GB6138   杨健   初级仓管员    安世成品  NEXPEDGWHS        发货组  安世 FG发货PQ   \n",
       "3     GB6100   王茜   高级仓管员    安世成品  NEXPEDGWHS        发货组  安世 FG发货PQ   \n",
       "4     GB5954  王书祥  营运管理助理    安世成品  NEXPEDGWHS        发货组  安世 FG发货PQ   \n",
       "...      ...  ...     ...     ...         ...        ...        ...   \n",
       "3418     NaN  NaN     NaN      坪山         NaN         关务    按条发货-坪山   \n",
       "3419     NaN  NaN     NaN      坪山         NaN         OE    按条发货-坪山   \n",
       "3420     NaN  NaN     NaN  嘉达贵安仓配         NaN  贵安仓配3#点料室     贵阳仓配趟数   \n",
       "3421     NaN  NaN     NaN   C9原材料         NaN       终端交付   按条发货-原材料   \n",
       "3422     NaN  NaN     NaN      嘉达         NaN         内控   按条发货-原材料   \n",
       "\n",
       "          效率指标名称    OU（成本中心）  \n",
       "0       安世成品发货人效  NEXPEDGWHS  \n",
       "1       安世成品发货人效  NEXPEDGWHS  \n",
       "2       安世成品发货人效  NEXPEDGWHS  \n",
       "3       安世成品发货人效  NEXPEDGWHS  \n",
       "4       安世成品发货人效  NEXPEDGWHS  \n",
       "...          ...         ...  \n",
       "3418    发货人效——坪山  HONORSZIHS  \n",
       "3419    发货人效——坪山  HONORSZIHS  \n",
       "3420      贵阳仓配人效  HUAWEDGTRD  \n",
       "3421  发货人效——华为终端  HUAWEDHW4S  \n",
       "3422  发货人效——华为终端  HUAWEDHW4S  \n",
       "\n",
       "[3423 rows x 9 columns]"
      ]
     },
     "execution_count": 43,
     "metadata": {},
     "output_type": "execute_result"
    }
   ],
   "source": [
    "df"
   ]
  },
  {
   "cell_type": "code",
   "execution_count": 50,
   "metadata": {},
   "outputs": [
    {
     "data": {
      "text/plain": [
       "'c:\\\\Users\\\\dscshap3808\\\\Documents\\\\my_scripts_new\\\\play11_huawei\\\\script'"
      ]
     },
     "execution_count": 50,
     "metadata": {},
     "output_type": "execute_result"
    }
   ],
   "source": [
    "os.getcwd()"
   ]
  },
  {
   "cell_type": "code",
   "execution_count": 51,
   "metadata": {},
   "outputs": [],
   "source": [
    "df[df['效率指标名称'].isna()] [['站点', '部门']].drop_duplicates().to_csv('../data_up/no_eff_ind.csv', index = None)"
   ]
  },
  {
   "cell_type": "code",
   "execution_count": null,
   "metadata": {},
   "outputs": [],
   "source": [
    "SELECT  b.emp_name\n",
    "       ,b.emp_type\n",
    "       ,b.site_name\n",
    "       ,b.dept\n",
    "       ,c.mapping_no\n",
    "       ,eff_index_name\n",
    "       ,cost_center\n",
    "       ,ou_code\n",
    "FROM dsc_dim.dim_dsc_huawei_os_name_list_rel b\n",
    "LEFT JOIN\n",
    "(\n",
    "\tSELECT  mapping_no\n",
    "\t       ,site\n",
    "\t       ,dept\n",
    "\t       ,eff_index_name\n",
    "\t       ,ou_code\n",
    "\tFROM ods_public.huawei_opt_dept_mapping\n",
    "\tWHERE inc_day = '20220118'\n",
    "\tGROUP BY  mapping_no\n",
    "\t         ,site\n",
    "\t         ,dept\n",
    "\t         ,eff_index_name\n",
    "\t         ,ou_code\n",
    ") c\n",
    "ON b.cost_center = c.ou_code AND b.site_name = c.site\n",
    "WHERE inc_day = '20220118'\n",
    "ORDER BY emp_name "
   ]
  },
  {
   "cell_type": "code",
   "execution_count": 19,
   "metadata": {},
   "outputs": [
    {
     "data": {
      "text/html": [
       "<div>\n",
       "<style scoped>\n",
       "    .dataframe tbody tr th:only-of-type {\n",
       "        vertical-align: middle;\n",
       "    }\n",
       "\n",
       "    .dataframe tbody tr th {\n",
       "        vertical-align: top;\n",
       "    }\n",
       "\n",
       "    .dataframe thead th {\n",
       "        text-align: right;\n",
       "    }\n",
       "</style>\n",
       "<table border=\"1\" class=\"dataframe\">\n",
       "  <thead>\n",
       "    <tr style=\"text-align: right;\">\n",
       "      <th></th>\n",
       "      <th>level_0</th>\n",
       "      <th>match</th>\n",
       "      <th>0</th>\n",
       "    </tr>\n",
       "  </thead>\n",
       "  <tbody>\n",
       "    <tr>\n",
       "      <th>0</th>\n",
       "      <td>3</td>\n",
       "      <td>0</td>\n",
       "      <td>\\t</td>\n",
       "    </tr>\n",
       "    <tr>\n",
       "      <th>1</th>\n",
       "      <td>3</td>\n",
       "      <td>1</td>\n",
       "      <td>\\t</td>\n",
       "    </tr>\n",
       "    <tr>\n",
       "      <th>2</th>\n",
       "      <td>3</td>\n",
       "      <td>2</td>\n",
       "      <td>\\t</td>\n",
       "    </tr>\n",
       "    <tr>\n",
       "      <th>3</th>\n",
       "      <td>4</td>\n",
       "      <td>0</td>\n",
       "      <td>\\t</td>\n",
       "    </tr>\n",
       "    <tr>\n",
       "      <th>4</th>\n",
       "      <td>4</td>\n",
       "      <td>1</td>\n",
       "      <td>\\t</td>\n",
       "    </tr>\n",
       "    <tr>\n",
       "      <th>...</th>\n",
       "      <td>...</td>\n",
       "      <td>...</td>\n",
       "      <td>...</td>\n",
       "    </tr>\n",
       "    <tr>\n",
       "      <th>154</th>\n",
       "      <td>54</td>\n",
       "      <td>1</td>\n",
       "      <td>\\t</td>\n",
       "    </tr>\n",
       "    <tr>\n",
       "      <th>155</th>\n",
       "      <td>54</td>\n",
       "      <td>2</td>\n",
       "      <td>\\t</td>\n",
       "    </tr>\n",
       "    <tr>\n",
       "      <th>156</th>\n",
       "      <td>55</td>\n",
       "      <td>0</td>\n",
       "      <td>\\t</td>\n",
       "    </tr>\n",
       "    <tr>\n",
       "      <th>157</th>\n",
       "      <td>55</td>\n",
       "      <td>1</td>\n",
       "      <td>\\t</td>\n",
       "    </tr>\n",
       "    <tr>\n",
       "      <th>158</th>\n",
       "      <td>55</td>\n",
       "      <td>2</td>\n",
       "      <td>\\t</td>\n",
       "    </tr>\n",
       "  </tbody>\n",
       "</table>\n",
       "<p>159 rows × 3 columns</p>\n",
       "</div>"
      ],
      "text/plain": [
       "     level_0  match   0\n",
       "0          3      0  \\t\n",
       "1          3      1  \\t\n",
       "2          3      2  \\t\n",
       "3          4      0  \\t\n",
       "4          4      1  \\t\n",
       "..       ...    ...  ..\n",
       "154       54      1  \\t\n",
       "155       54      2  \\t\n",
       "156       55      0  \\t\n",
       "157       55      1  \\t\n",
       "158       55      2  \\t\n",
       "\n",
       "[159 rows x 3 columns]"
      ]
     },
     "execution_count": 19,
     "metadata": {},
     "output_type": "execute_result"
    }
   ],
   "source": [
    "pd.read_clipboard(sep = '\\001')['site_name'].str.extractall('(\\t)').reset_index()"
   ]
  },
  {
   "cell_type": "code",
   "execution_count": 23,
   "metadata": {},
   "outputs": [],
   "source": [
    "ppl_cnt  =pd.read_clipboard(header =None)"
   ]
  },
  {
   "cell_type": "code",
   "execution_count": 26,
   "metadata": {},
   "outputs": [],
   "source": [
    "ppl_cnt = ppl_cnt[[2,1,3,0]]\n",
    "ppl_cnt.columns = ['cc', 'site', 'dept','head_cnt']"
   ]
  },
  {
   "cell_type": "code",
   "execution_count": 36,
   "metadata": {},
   "outputs": [],
   "source": [
    "os.getcwd()\n",
    "\n",
    "ppl_cnt.to_csv('../data_up/head_cnt_onccsite.csv', index = None, encoding = 'utf_8_sig')"
   ]
  },
  {
   "cell_type": "markdown",
   "metadata": {},
   "source": [
    "---\n",
    "# 权限控制"
   ]
  },
  {
   "cell_type": "code",
   "execution_count": 55,
   "metadata": {},
   "outputs": [
    {
     "data": {
      "text/plain": [
       "['authen_cc_level_cfg.csv',\n",
       " 'authen_huawei.csv',\n",
       " 'head_cnt_onccsite.csv',\n",
       " 'no_eff_ind.csv']"
      ]
     },
     "execution_count": 55,
     "metadata": {},
     "output_type": "execute_result"
    }
   ],
   "source": [
    "os.listdir('../data_up')"
   ]
  },
  {
   "cell_type": "code",
   "execution_count": 92,
   "metadata": {},
   "outputs": [
    {
     "name": "stdout",
     "output_type": "stream",
     "text": [
      "csv_read\n"
     ]
    }
   ],
   "source": [
    "auth = pd_loaddata.pd_excel('../data_down/huawei_authen', 0)"
   ]
  },
  {
   "cell_type": "code",
   "execution_count": 94,
   "metadata": {},
   "outputs": [],
   "source": [
    "auth = auth.melt(id_vars = '邮箱').drop('variable', axis = 1).dropna(subset=['value']).sort_values('邮箱')\\\n",
    "    # .to_csv('../data_up/authen_huawei.csv', sep = '\\t', header = None, index = None)"
   ]
  },
  {
   "cell_type": "code",
   "execution_count": 87,
   "metadata": {},
   "outputs": [],
   "source": [
    "df = pd.read_csv('../data_up/authen_cc_level_cfg.csv', sep = '\\x01', header = None )"
   ]
  },
  {
   "cell_type": "code",
   "execution_count": 90,
   "metadata": {},
   "outputs": [
    {
     "data": {
      "text/html": [
       "<div>\n",
       "<style scoped>\n",
       "    .dataframe tbody tr th:only-of-type {\n",
       "        vertical-align: middle;\n",
       "    }\n",
       "\n",
       "    .dataframe tbody tr th {\n",
       "        vertical-align: top;\n",
       "    }\n",
       "\n",
       "    .dataframe thead th {\n",
       "        text-align: right;\n",
       "    }\n",
       "</style>\n",
       "<table border=\"1\" class=\"dataframe\">\n",
       "  <thead>\n",
       "    <tr style=\"text-align: right;\">\n",
       "      <th></th>\n",
       "      <th>0</th>\n",
       "      <th>1</th>\n",
       "      <th>2</th>\n",
       "      <th>3</th>\n",
       "    </tr>\n",
       "  </thead>\n",
       "  <tbody>\n",
       "    <tr>\n",
       "      <th>0</th>\n",
       "      <td>admin</td>\n",
       "      <td>1</td>\n",
       "      <td>*</td>\n",
       "      <td>NaN</td>\n",
       "    </tr>\n",
       "    <tr>\n",
       "      <th>1</th>\n",
       "      <td>arthur.ji@sf-dsc.com</td>\n",
       "      <td>0</td>\n",
       "      <td>NaN</td>\n",
       "      <td>Auto</td>\n",
       "    </tr>\n",
       "    <tr>\n",
       "      <th>2</th>\n",
       "      <td>simon.ping@sf-dsc.com</td>\n",
       "      <td>0</td>\n",
       "      <td>NaN</td>\n",
       "      <td>CR</td>\n",
       "    </tr>\n",
       "    <tr>\n",
       "      <th>3</th>\n",
       "      <td>william.qi@sf-dsc.com</td>\n",
       "      <td>0</td>\n",
       "      <td>NaN</td>\n",
       "      <td>EM</td>\n",
       "    </tr>\n",
       "    <tr>\n",
       "      <th>4</th>\n",
       "      <td>linus.wong@sf-dsc.com</td>\n",
       "      <td>0</td>\n",
       "      <td>NaN</td>\n",
       "      <td>HK</td>\n",
       "    </tr>\n",
       "    <tr>\n",
       "      <th>...</th>\n",
       "      <td>...</td>\n",
       "      <td>...</td>\n",
       "      <td>...</td>\n",
       "      <td>...</td>\n",
       "    </tr>\n",
       "    <tr>\n",
       "      <th>96</th>\n",
       "      <td>suzie.Xie@sf-dsc.com</td>\n",
       "      <td>0</td>\n",
       "      <td>HUAWEDGNHS</td>\n",
       "      <td>NaN</td>\n",
       "    </tr>\n",
       "    <tr>\n",
       "      <th>97</th>\n",
       "      <td>bill.xu@sf-dsc.com</td>\n",
       "      <td>0</td>\n",
       "      <td>NEXPEDGWHS</td>\n",
       "      <td>NaN</td>\n",
       "    </tr>\n",
       "    <tr>\n",
       "      <th>98</th>\n",
       "      <td>suzie.Xie@sf-dsc.com</td>\n",
       "      <td>0</td>\n",
       "      <td>NEXPEDGWHS</td>\n",
       "      <td>NaN</td>\n",
       "    </tr>\n",
       "    <tr>\n",
       "      <th>99</th>\n",
       "      <td>bill.xu@sf-dsc.com</td>\n",
       "      <td>0</td>\n",
       "      <td>TYCOTSDXXS</td>\n",
       "      <td>NaN</td>\n",
       "    </tr>\n",
       "    <tr>\n",
       "      <th>100</th>\n",
       "      <td>suzie.Xie@sf-dsc.com</td>\n",
       "      <td>0</td>\n",
       "      <td>TYCOTSDXXS</td>\n",
       "      <td>NaN</td>\n",
       "    </tr>\n",
       "  </tbody>\n",
       "</table>\n",
       "<p>101 rows × 4 columns</p>\n",
       "</div>"
      ],
      "text/plain": [
       "                         0  1           2     3\n",
       "0                    admin  1           *   NaN\n",
       "1     arthur.ji@sf-dsc.com  0         NaN  Auto\n",
       "2    simon.ping@sf-dsc.com  0         NaN    CR\n",
       "3    william.qi@sf-dsc.com  0         NaN    EM\n",
       "4    linus.wong@sf-dsc.com  0         NaN    HK\n",
       "..                     ... ..         ...   ...\n",
       "96    suzie.Xie@sf-dsc.com  0  HUAWEDGNHS   NaN\n",
       "97      bill.xu@sf-dsc.com  0  NEXPEDGWHS   NaN\n",
       "98    suzie.Xie@sf-dsc.com  0  NEXPEDGWHS   NaN\n",
       "99      bill.xu@sf-dsc.com  0  TYCOTSDXXS   NaN\n",
       "100   suzie.Xie@sf-dsc.com  0  TYCOTSDXXS   NaN\n",
       "\n",
       "[101 rows x 4 columns]"
      ]
     },
     "execution_count": 90,
     "metadata": {},
     "output_type": "execute_result"
    }
   ],
   "source": [
    "df"
   ]
  },
  {
   "cell_type": "code",
   "execution_count": 96,
   "metadata": {},
   "outputs": [],
   "source": [
    "auth.columns = [0,2]"
   ]
  },
  {
   "cell_type": "code",
   "execution_count": 99,
   "metadata": {},
   "outputs": [],
   "source": [
    "df = pd.concat([df, auth],axis = 0).drop_duplicates()"
   ]
  },
  {
   "cell_type": "code",
   "execution_count": 100,
   "metadata": {},
   "outputs": [],
   "source": [
    "df.to_csv('../data_up/authen_cc_all.csv', sep = '\\t', header = None, index = None)"
   ]
  }
 ],
 "metadata": {
  "interpreter": {
   "hash": "47b50d2908d96196e4220cfb4e81faa93803065ea975497e7026f672c1f58470"
  },
  "kernelspec": {
   "display_name": "Python 3.8.8 64-bit ('siming': conda)",
   "language": "python",
   "name": "python3"
  },
  "language_info": {
   "codemirror_mode": {
    "name": "ipython",
    "version": 3
   },
   "file_extension": ".py",
   "mimetype": "text/x-python",
   "name": "python",
   "nbconvert_exporter": "python",
   "pygments_lexer": "ipython3",
   "version": "3.8.8"
  },
  "orig_nbformat": 4
 },
 "nbformat": 4,
 "nbformat_minor": 2
}
