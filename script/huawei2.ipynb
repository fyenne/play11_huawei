{
 "cells": [
  {
   "cell_type": "code",
   "execution_count": 1,
   "metadata": {},
   "outputs": [
    {
     "data": {
      "text/plain": [
       "['gar.xlsx',\n",
       " 'huawei_daily.csv',\n",
       " 'huawei_output.csv',\n",
       " 'Outsourcing_Name_List_20220119104910.xlsx',\n",
       " '业务量与部门关系表_20220119104837.xlsx',\n",
       " '入湖数据关系.csv',\n",
       " '入湖数据关系.xlsx']"
      ]
     },
     "execution_count": 1,
     "metadata": {},
     "output_type": "execute_result"
    }
   ],
   "source": [
    "from fyenn_class import  pd_loaddata, pd, np \n",
    "from datetime import datetime, timedelta\n",
    "\n",
    "path = '../data_down/'\n",
    "os.listdir(path)\n"
   ]
  },
  {
   "cell_type": "code",
   "execution_count": 10,
   "metadata": {},
   "outputs": [
    {
     "name": "stdout",
     "output_type": "stream",
     "text": [
      "csv_read\n",
      "csv_read\n"
     ]
    }
   ],
   "source": [
    "rel = pd_loaddata.pd_excel(path + '业务量与部门关系表_20220119104837', 0)\n",
    "ls = pd_loaddata.pd_excel(path + 'Outsourcing_Name_List_20220119104910', 0)"
   ]
  }
 ],
 "metadata": {
  "interpreter": {
   "hash": "47b50d2908d96196e4220cfb4e81faa93803065ea975497e7026f672c1f58470"
  },
  "kernelspec": {
   "display_name": "Python 3.8.8 64-bit ('siming': conda)",
   "language": "python",
   "name": "python3"
  },
  "language_info": {
   "codemirror_mode": {
    "name": "ipython",
    "version": 3
   },
   "file_extension": ".py",
   "mimetype": "text/x-python",
   "name": "python",
   "nbconvert_exporter": "python",
   "pygments_lexer": "ipython3",
   "version": "3.8.8"
  },
  "orig_nbformat": 4
 },
 "nbformat": 4,
 "nbformat_minor": 2
}
