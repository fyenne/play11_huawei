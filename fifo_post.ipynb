{
 "cells": [
  {
   "cell_type": "code",
   "execution_count": 37,
   "metadata": {},
   "outputs": [],
   "source": [
    "import pandas as pd\n",
    "import numpy as np\n",
    "import warnings\n",
    "warnings.filterwarnings('ignore')\n",
    "df = pd.read_csv('./data_down/1223_fifo_2wk.csv', sep = '\\001')\n",
    "df.columns = pd.Series(df.columns).str.replace('.+\\.', '')\n",
    "# df = df.iloc[:,6:]\n",
    "df2 =  pd.read_csv('./data_down/fifo_out_2w.csv', sep = '\\001')\n",
    "df2.columns = pd.Series(df2.columns).str.replace('.+\\.', '')\n",
    "# df = df.iloc[:,6:]\n",
    "# df = df2\n",
    "\n",
    "df3 = pd.read_csv('./data_down/fifo_fefo_alrt_0105.csv', sep = '\\001')\n",
    "df3.columns = pd.Series(df3.columns).str.replace('.+\\.', '')"
   ]
  },
  {
   "cell_type": "code",
   "execution_count": 38,
   "metadata": {},
   "outputs": [],
   "source": [
    "# ts = 'HPPXXWHWDS'\n",
    "df3['old_remain_location'] = df3['old_remain_location'].str.replace('\\{|\\}|\\'', '')\n",
    "df3['new_export_location'] = df3['new_export_location'].str.replace('\\{|\\}|\\'', '')"
   ]
  },
  {
   "cell_type": "code",
   "execution_count": 39,
   "metadata": {},
   "outputs": [],
   "source": [
    "# df3 = df3.iloc[22:, :]\n",
    "df3.head(2)\n",
    "# df3['new_export_date'].str.match('(\\d{4}\\-\\d{2}\\-\\d{2})')\n",
    "\n",
    "df3\\\n",
    "    .to_csv('./data_up/fifofefo_20220105_W.csv')"
   ]
  },
  {
   "cell_type": "code",
   "execution_count": 45,
   "metadata": {},
   "outputs": [],
   "source": [
    "def data_(stats):\n",
    "    \"\"\"\n",
    "    对数据筛选分类\n",
    "    \"\"\"\n",
    "    fefo = df[df['fifo_fefo'] == stats].sort_values(['sku' , 'received_date' ], ascending=True)\n",
    "    fefo = fefo[fefo['week_7']!=0]\n",
    "    fefo['out_amt'] = fefo['week_6'] - fefo['week_7']\n",
    "\n",
    "\n",
    "    fefo['flag'] = fefo.groupby(\n",
    "        ['sku', 'ou_code', 'wms_warehouse_id', 'fifo_fefo', 'start_of_week', 'end_of_week']\n",
    "        )['sku'].transform('count')\n",
    "    fefo = fefo[fefo['flag'] != 1]\n",
    "\n",
    "    fefo['flag'] = fefo.groupby(\n",
    "        ['sku', 'ou_code', 'wms_warehouse_id', 'fifo_fefo', 'start_of_week', 'end_of_week']\n",
    "        )['out_amt'].transform(min)\n",
    "    fefo = fefo[fefo['flag'] > 0]\n",
    "    fefo.tail(8)\n",
    "    return fefo\n",
    "# def data2_(stats, df):\n",
    "#     fefo = df\n",
    "#     if stats == 'fifo':\n",
    "#         fefo = fefo.sort_values(['sku' , 'received_date'], ascending=True)\n",
    "#     else:\n",
    "#         fefo = fefo.sort_values(['sku' , 'received_date'], ascending=True)\n",
    "#     fefo_out = fefo.groupby(\n",
    "#         ['ou_code', 'wms_warehouse_id', 'fifo_fefo', 'start_of_week', 'end_of_week', 'sku'] , as_index= False\n",
    "#         ).agg(\n",
    "#             old_remain_amt = ('week_7', 'first'), # old remain\n",
    "#             old_remain_location = ('location', 'first'), # 易过期\n",
    "#             old_remain_date = ('received_date', 'first'), \n",
    "#             old_remain_lock_code = ('lock_codes', 'first'), \n",
    "\n",
    "#             new_export_amt = ('out_amt', 'mean'),  # new export\n",
    "#             new_export_location = ('location', 'last'),\n",
    "#             new_export_date = ('received_date', 'last'), \n",
    "#             new_export_lock_codes = ('lock_codes', 'last'), \n",
    "#     )\n",
    "#     return fefo_out\n",
    "\n",
    "def data2_(stats, df):\n",
    "        fefo = df\n",
    "        if stats == 'fifo':\n",
    "            fefo = fefo.sort_values(['sku' , 'received_date'], ascending=True)\n",
    "        else:\n",
    "            fefo = fefo.sort_values(['sku' , 'received_date'], ascending=True) \n",
    "            # ? 搞不懂发生了什么. 但这样的结果才是正确的..\n",
    "        fefo_out = fefo.groupby(\n",
    "            ['ou_code', 'wms_warehouse_id', 'fifo_fefo', 'start_of_week', 'end_of_week', 'sku'],\n",
    "            as_index= False\n",
    "        #     ).agg(\n",
    "        #         old_remain_amt = ('week_7', 'first'), # old remain\n",
    "        #         old_remain_location = ('location', 'first'), # 易过期\n",
    "        #         old_remain_date = ('received_date', 'first'), \n",
    "        #         old_remain_lock_code = ('lock_codes', 'first'), \n",
    "\n",
    "        #         new_export_amt = ('out_amt', 'mean'),  # new export\n",
    "        #         new_export_location = ('location', 'last'),\n",
    "        #         new_export_date = ('received_date', 'last'), \n",
    "        #         new_export_lock_codes = ('lock_codes', 'first'), \n",
    "        # )   # version failed.\n",
    "            ).agg({\n",
    "                'week_7' : [('old_remain_amt', 'first')], \n",
    "                'out_amt' : [('new_export_amt', 'first')], \n",
    "                'location': [('old_remain_location', 'first'), ('new_export_location', 'last')], \n",
    "                'received_date': [('old_remain_date','first'), ('new_export_date', 'last')],\n",
    "                'lock_codes':[('old_remain_lock_code','first'), ('new_export_lock_codes', 'last')],\n",
    "                }\n",
    "        )\n",
    "        return fefo_out"
   ]
  },
  {
   "cell_type": "code",
   "execution_count": 121,
   "metadata": {},
   "outputs": [],
   "source": [
    "# fefo_out = fefo_out[~fefo_out['old_remain_location'].str.contains(fefo_out['new_export_location'][0])]"
   ]
  },
  {
   "cell_type": "code",
   "execution_count": 46,
   "metadata": {},
   "outputs": [],
   "source": [
    "fifo = data_('fifo')\n",
    "fefo = data_('fefo')\n",
    "# fifo.head(5).sort_values(['sku' , 'received_date'], ascending=False)"
   ]
  },
  {
   "cell_type": "code",
   "execution_count": 47,
   "metadata": {},
   "outputs": [],
   "source": [
    "df_out = pd.concat([\n",
    "    data2_('fefo', fefo), data2_('fifo', fifo)\n",
    "    ], axis = 0)\\\n",
    "        # .to_csv('./data_up/fifo_fefo_alert_thur.csv', index = None, encoding = 'utf_8_sig')"
   ]
  },
  {
   "cell_type": "code",
   "execution_count": 48,
   "metadata": {},
   "outputs": [],
   "source": [
    "df_out.columns = list(df_out.columns.get_level_values(0)[0:6]) + list(df_out.columns.get_level_values(1)[6:])"
   ]
  },
  {
   "cell_type": "code",
   "execution_count": 50,
   "metadata": {},
   "outputs": [],
   "source": []
  },
  {
   "cell_type": "code",
   "execution_count": 16,
   "metadata": {},
   "outputs": [],
   "source": [
    "from datetime import date \n",
    "def allsundays(year):\n",
    "        \"\"\"\n",
    "        十年, \n",
    "        \"\"\"\n",
    "        return pd.Series(pd.date_range(start=str(year), end=str(year+10), \n",
    "                            freq=\"W-FRI\").strftime('%Y%m%d'))\n",
    "fridays = tuple([\n",
    "        i for i in list(\n",
    "            allsundays(2021)[allsundays(2021) < date.today().strftime('%Y%m%d')][-int(1):])])[0]"
   ]
  },
  {
   "cell_type": "code",
   "execution_count": 19,
   "metadata": {},
   "outputs": [
    {
     "data": {
      "text/plain": [
       "Index(['ou_code', 'wms_warehouse_id', 'fifo_fefo', 'start_of_week',\n",
       "       'end_of_week', 'sku', 'old_remain_amt', 'old_remain_location',\n",
       "       'old_remain_date', 'old_remain_lock_code', 'new_export_amt',\n",
       "       'new_export_location', 'new_export_date', 'new_export_lock_codes'],\n",
       "      dtype='object')"
      ]
     },
     "execution_count": 19,
     "metadata": {},
     "output_type": "execute_result"
    }
   ],
   "source": [
    "df_out.columns"
   ]
  }
 ],
 "metadata": {
  "interpreter": {
   "hash": "47b50d2908d96196e4220cfb4e81faa93803065ea975497e7026f672c1f58470"
  },
  "kernelspec": {
   "display_name": "Python 3.8.8 64-bit ('siming': conda)",
   "language": "python",
   "name": "python3"
  },
  "language_info": {
   "codemirror_mode": {
    "name": "ipython",
    "version": 3
   },
   "file_extension": ".py",
   "mimetype": "text/x-python",
   "name": "python",
   "nbconvert_exporter": "python",
   "pygments_lexer": "ipython3",
   "version": "3.8.8"
  },
  "orig_nbformat": 4
 },
 "nbformat": 4,
 "nbformat_minor": 2
}
