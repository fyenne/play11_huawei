{
 "cells": [
  {
   "cell_type": "code",
   "execution_count": null,
   "metadata": {},
   "outputs": [],
   "source": [
    "import numpy as np\n",
    "import pandas as pd\n",
    "import requests\n",
    "import time\n",
    "import json\n",
    "import psycopg2\n",
    "import urllib3\n",
    "urllib3.disable_warnings(urllib3.exceptions.InsecureRequestWarning)\n",
    "from psycopg2.extensions import register_adapter, AsIs\n",
    "psycopg2.extensions.register_adapter(np.int64, psycopg2._psycopg.AsIs)\n"
   ]
  },
  {
   "cell_type": "code",
   "execution_count": null,
   "metadata": {},
   "outputs": [],
   "source": [
    "WEBSITE = \"https://www.jiandaoyun.com\"\n",
    "appId = '617643f8308c2f000941f21b'\n",
    "entryId = '617fc35d7ffed400078e5b08'\n",
    "api_key = 'nqLEWktb51m3oYbYOZa5a2Ai6Lp8BHT7'\n",
    "url_get_widgets = WEBSITE + '/api/v1/app/' + appId + '/entry/' + entryId + '/widgets'\n",
    "url_get_data = WEBSITE + '/api/v1/app/' + appId + '/entry/' + entryId + '/data'\n",
    "url_retrieve_data = WEBSITE + '/api/v1/app/' + appId + '/entry/' + entryId + '/data_retrieve'\n",
    "url_update_data = WEBSITE + '/api/v1/app/' + appId + '/entry/' + entryId + '/data_update'\n",
    "url_create_data = WEBSITE + '/api/v1/app/' + appId + '/entry/' + entryId + '/data_create'\n",
    "url_delete_data = WEBSITE + '/api/v1/app/' + appId + '/entry/' + entryId + '/data_delete'\n",
    "api_key = api_key"
   ]
  },
  {
   "cell_type": "code",
   "execution_count": null,
   "metadata": {},
   "outputs": [],
   "source": [
    "def get_req_header( ):\n",
    "    return {\n",
    "        'Authorization': 'Bearer ' + api_key,\n",
    "        'Content-Type': 'application/json;charset=utf-8'\n",
    "    }\n",
    "\n",
    "    # 发送http请求\n",
    "# def send_request(self, method, request_url, data):\n",
    "proxies = {\"http\": \"http://23.210.15.233:8080\", \"https\": \"https://23.210.15.233:8080\"}\n",
    "headers = get_req_header()\n",
    "# if method == 'GET':\n",
    "    # res = requests.get(request_url, params=data, headers=headers, verify=False)\n",
    "# if method == 'POST':\n",
    "#     res = requests.post(request_url, data=json.dumps(data), headers=headers, verify=False)\n",
    "# result = res.json()"
   ]
  },
  {
   "cell_type": "code",
   "execution_count": null,
   "metadata": {},
   "outputs": [],
   "source": [
    "def send_request( method, request_url, data):\n",
    "        proxies = {\"http\": \"http://23.210.15.233:8080\", \"https\": \"https://23.210.15.233:8080\"}\n",
    "        headers =  get_req_header()\n",
    "        if method == 'GET':\n",
    "            res = requests.get(request_url, params=data, headers=headers, verify=False)\n",
    "        if method == 'POST':\n",
    "            res = requests.post(request_url, data=json.dumps(data), headers=headers, verify=False)\n",
    "        result = res.json()\n",
    "        if res.status_code >= 400:\n",
    "            if result['code'] == 8303 :\n",
    "                # 5s后重试\n",
    "                time.sleep(5)\n",
    "                return  send_request(method, request_url, data)\n",
    "            else:\n",
    "                raise Exception('请求错误！', result)\n",
    "        else:\n",
    "            return result"
   ]
  },
  {
   "cell_type": "code",
   "execution_count": null,
   "metadata": {},
   "outputs": [],
   "source": [
    "def get_form_data(dataId, limit, fields, data_filter):\n",
    "        result = send_request('POST', url_get_data, {\n",
    "            'data_id': dataId,\n",
    "            'limit': limit,\n",
    "            'fields': fields,\n",
    "            'filter': data_filter\n",
    "        })\n",
    "        return result['data']"
   ]
  },
  {
   "cell_type": "code",
   "execution_count": null,
   "metadata": {},
   "outputs": [],
   "source": [
    "def get_all_data( fields, data_filter):\n",
    "    form_data = []\n",
    "\n",
    "    # 递归取下一页数据\n",
    "    def get_next_page(dataId):\n",
    "        data = get_form_data(dataId, 100, fields, data_filter)\n",
    "        if data:\n",
    "            for v in data:\n",
    "                form_data.append(v)\n",
    "            dataId = data[len(data) - 1]['_id']\n",
    "            get_next_page(dataId)\n",
    "    get_next_page('')\n",
    "    return form_data"
   ]
  },
  {
   "cell_type": "code",
   "execution_count": null,
   "metadata": {},
   "outputs": [],
   "source": [
    "\n",
    "import pandas as pd\n",
    "import jdy\n",
    "import pgOperation\n",
    "\n",
    "\n",
    "# In[3]:\n",
    "\n",
    "\n",
    "def getFullJdyDf(APP_ID, ENTRY_ID, API_KEY):\n",
    "    api = jdy.APIUtils(APP_ID, ENTRY_ID, API_KEY)\n",
    "    form_data = api.get_all_data([], {})\n",
    "    df3 = pd.json_normalize(form_data)\n",
    "    return df3"
   ]
  },
  {
   "cell_type": "code",
   "execution_count": null,
   "metadata": {},
   "outputs": [],
   "source": [
    "\n",
    "def writePgFromApi(pg,APP_ID, ENTRY_ID, API_KEY, table_name):\n",
    "    df = getFullJdyDf(APP_ID, ENTRY_ID, API_KEY)\n",
    "    if table_name == 'huawei_daliy_operation':\n",
    "        df.columns = [\"deleter\",\"create_time\",\"update_time\",\"delete_time\",\"update_person\",\"update_date\",\"origin_receive\",\"origin_send\",\"origin_psn\",\"honor_receive\",\"honer_send\",\"honor_psn\",\"pearlriver_transport_times\",\"guiyang_transport_times\",\"t_product_receive\",\"t_product_clean\",\"t_product_send\",\"r4_receive\",\"r4_send\",\"r4_psn\",\"nanhua_receive\",\"nanhua_send\",\"nanhau_psn\",\"anshi_receive\",\"anshi_send\",\"anshi_case\",\"te_origin_receive\",\"te_origin_send\",\"te_product_receive\",\"te_product_send\",\"pre_receive\",\"pre_withdraw\",\"honor_transport_times\",\"id\",\"app_id\",\"entry_id\",\"creator_id\",\"creator_name\",\"creator_username\",\"creator_status\",\"updater_id\",\"updater_name\",\"updater_username\",\"updater_status\",\"creator\",\"updater\"]\n",
    "    elif table_name == 'huawei_output':\n",
    "        df.columns = [\"creator\",\"updater\",\"deleter\",\"create_time\", \"update_time\", \"delete_time\", \"update_date\",\"origin_receive\",\"origin_send\",\"origin_psn\",\"honor_receive\",\"honer_send\",\"honor_psn\",\"pearlriver_transport_times\",\"guiyang_transport_times\",\"t_product_receive\",\"t_product_clean\",\"t_product_send\",\"r4_receive\",\"r4_send\",\"r4_psn\",\"nanhua_receive\",\"nanhua_send\",\"nanhau_psn\",\"anshi_receive\",\"anshi_send\",\"anshi_case\",\"te_origin_receive\",\"te_origin_send\",\"te_product_receive\",\"te_product_send\",\"pre_receive\",\"pre_withdraw\",\"honor_transport_times\",\"id\",\"app_id\",\"entry_id\"]\n",
    "    elif table_name == 'huawei_outsourcing_name_list':\n",
    "        df.columns = [\"deleter\",\"create_time\",\"update_time\",\"delete_time\", 'area',\n",
    "        'out_source_company', 'company', 'emp_no', 'emp_name', 'city',\n",
    "        'job_name', 'site_name', 'cost_center', 'entry_date', 'leave_date',\n",
    "        'is_rehired', 'is_cancel_entry', 'salary_amount', 'job_allowance',\n",
    "        'meal_allowance', 'traffic_allowance', 'accom_allowance',\n",
    "        'phone_allowance', 'social_insurance_allowance', 'level_allowance',\n",
    "        'skill_allowance', 'env_allowance', 'special_allowance',\n",
    "        'seniority_allowance', 'guaranteed_bonus', 'social_insurance_cost',\n",
    "        'out_source_service_cost', 'package_salary', 'charged_hr',\n",
    "        'update_time', 'comment', 'id_no', 'dept', 'by_time_or_piece',\n",
    "        'emp_type', \"id\",\"app_id\",\"entry_id\",\"creator_id\",\"creator_name\",\n",
    "        \"creator_username\",\"creator_status\",\"updater_id\",\"updater_name\",\n",
    "        \"updater_username\",\"updater_status\"]\n",
    "    elif table_name == 'huawei_opt_dept_mapping':\n",
    "        df.columns = [\"deleter\",\"create_time\",\"update_time\",\"delete_time\", 'flow_state',\n",
    "        'table_id', 'mapping_no', 'site', 'dept', 'eff_index_name', 'ou_code',\n",
    "        \"id\",\"app_id\",\"entry_id\",\"creator_id\",\"creator_name\",\n",
    "        \"creator_username\",\"creator_status\",\"updater_id\",\"updater_name\",\n",
    "        \"updater_username\",\"updater_status\"]\n",
    "\n",
    "    # pg.writeDfToPg(df,table_name)\n",
    "    # pg.grantAllOn(table_name,'smart')\n",
    "    print(df.head())\n",
    "    return df"
   ]
  },
  {
   "cell_type": "code",
   "execution_count": 2,
   "metadata": {},
   "outputs": [
    {
     "data": {
      "text/plain": [
       "['deleter',\n",
       " 'create_time',\n",
       " 'update_time',\n",
       " 'delete_time',\n",
       " 'area',\n",
       " 'out_source_company',\n",
       " 'company',\n",
       " 'emp_no',\n",
       " 'emp_name',\n",
       " 'city',\n",
       " 'job_name',\n",
       " 'site_name',\n",
       " 'cost_center',\n",
       " 'entry_date',\n",
       " 'leave_date',\n",
       " 'is_rehired',\n",
       " 'is_cancel_entry',\n",
       " 'salary_amount',\n",
       " 'job_allowance',\n",
       " 'meal_allowance',\n",
       " 'traffic_allowance',\n",
       " 'accom_allowance',\n",
       " 'phone_allowance',\n",
       " 'social_insurance_allowance',\n",
       " 'level_allowance',\n",
       " 'skill_allowance',\n",
       " 'env_allowance',\n",
       " 'special_allowance',\n",
       " 'seniority_allowance',\n",
       " 'guaranteed_bonus',\n",
       " 'social_insurance_cost',\n",
       " 'out_source_service_cost',\n",
       " 'package_salary',\n",
       " 'charged_hr',\n",
       " 'update_time',\n",
       " 'comment',\n",
       " 'id_no',\n",
       " 'dept',\n",
       " 'by_time_or_piece',\n",
       " 'emp_type',\n",
       " 'id',\n",
       " 'app_id',\n",
       " 'entry_id',\n",
       " 'creator_id',\n",
       " 'creator_name',\n",
       " 'creator_username',\n",
       " 'creator_status',\n",
       " 'updater_id',\n",
       " 'updater_name',\n",
       " 'updater_username',\n",
       " 'updater_status']"
      ]
     },
     "execution_count": 2,
     "metadata": {},
     "output_type": "execute_result"
    }
   ],
   "source": [
    "ls = [\"deleter\",\"create_time\",\"update_time\",\"delete_time\", 'area',\n",
    "        'out_source_company', 'company', 'emp_no', 'emp_name', 'city',\n",
    "        'job_name', 'site_name', 'cost_center', 'entry_date', 'leave_date',\n",
    "        'is_rehired', 'is_cancel_entry', 'salary_amount', 'job_allowance',\n",
    "        'meal_allowance', 'traffic_allowance', 'accom_allowance',\n",
    "        'phone_allowance', 'social_insurance_allowance', 'level_allowance',\n",
    "        'skill_allowance', 'env_allowance', 'special_allowance',\n",
    "        'seniority_allowance', 'guaranteed_bonus', 'social_insurance_cost',\n",
    "        'out_source_service_cost', 'package_salary', 'charged_hr',\n",
    "        'update_time', 'comment', 'id_no', 'dept', 'by_time_or_piece',\n",
    "        'emp_type', \"id\",\"app_id\",\"entry_id\",\"creator_id\",\"creator_name\",\n",
    "        \"creator_username\",\"creator_status\",\"updater_id\",\"updater_name\",\n",
    "        \"updater_username\",\"updater_status\"]\n",
    "[l.lower() for l in ls]"
   ]
  },
  {
   "cell_type": "code",
   "execution_count": null,
   "metadata": {},
   "outputs": [],
   "source": [
    "# APP_ID_1 = '617643f8308c2f000941f21b'\n",
    "# ENTRY_ID_1 = '617915c10613da0007c9a4d4'\n",
    "# API_KEY_1 = 'nqLEWktb51m3oYbYOZa5a2Ai6Lp8BHT7'\n",
    "# pg = pgOperation.PgOperation('public') \n",
    "# writePgFromApi(pg,APP_ID_1, ENTRY_ID_1, API_KEY_1,'huawei_daliy_operation')"
   ]
  }
 ],
 "metadata": {
  "interpreter": {
   "hash": "47b50d2908d96196e4220cfb4e81faa93803065ea975497e7026f672c1f58470"
  },
  "kernelspec": {
   "display_name": "Python 3.8.8 64-bit ('siming': conda)",
   "language": "python",
   "name": "python3"
  },
  "language_info": {
   "codemirror_mode": {
    "name": "ipython",
    "version": 3
   },
   "file_extension": ".py",
   "mimetype": "text/x-python",
   "name": "python",
   "nbconvert_exporter": "python",
   "pygments_lexer": "ipython3",
   "version": "3.8.8"
  },
  "orig_nbformat": 4
 },
 "nbformat": 4,
 "nbformat_minor": 2
}
